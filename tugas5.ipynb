{
  "cells": [
    {
      "cell_type": "markdown",
      "metadata": {
        "id": "ehIxLpbh_c3r"
      },
      "source": [
        "**TF-IDF Berita**"
      ]
    },
    {
      "cell_type": "code",
      "execution_count": 2,
      "metadata": {
        "colab": {
          "base_uri": "https://localhost:8080/"
        },
        "id": "yfkll3vw_KEp",
        "outputId": "f402f1d6-3c56-4318-a06d-beb0777f0e56"
      },
      "outputs": [
        {
          "name": "stdout",
          "output_type": "stream",
          "text": [
            "Jumlah Data: 925\n",
            "Jumlah Kolom: 18060\n",
            "Jumlah Kategori: 37\n",
            "Daftar Kategori: ['Jatim' 'Jatim Metro' 'Jatim Tengah' 'Jatim Utara' 'Jatim Selatan'\n",
            " 'Jatim Timur' 'Jatim Barat' 'Jatim Madura' 'Nasional' 'Nusantara'\n",
            " 'Politik' 'Birokrasi' 'Religia' 'T&J - Islam Sehari-hari'\n",
            " 'Tafsir Al Quran Aktual' 'Pesantren' 'Ormas' 'Hukum - Kriminal' 'Ekonomi'\n",
            " 'Entrepreneur' 'Sportainment' 'Selebriti' 'Wisata' 'Lifestyle' 'Olahraga'\n",
            " 'Otomotif' 'Pendidikan' 'Kesehatan' 'Tren' 'Kuliner' 'Figur'\n",
            " 'Sejarah dan Budaya' 'Dunia' 'Unik - Aneh' 'Peristiwa' 'Teknologi'\n",
            " 'Komunitas dan Lingkungan']\n",
            "\n",
            "Jumlah Data per Kategori:\n",
            "kategori\n",
            "Jatim                       25\n",
            "Entrepreneur                25\n",
            "Selebriti                   25\n",
            "Wisata                      25\n",
            "Lifestyle                   25\n",
            "Olahraga                    25\n",
            "Otomotif                    25\n",
            "Pendidikan                  25\n",
            "Kesehatan                   25\n",
            "Tren                        25\n",
            "Kuliner                     25\n",
            "Figur                       25\n",
            "Sejarah dan Budaya          25\n",
            "Dunia                       25\n",
            "Unik - Aneh                 25\n",
            "Peristiwa                   25\n",
            "Teknologi                   25\n",
            "Sportainment                25\n",
            "Ekonomi                     25\n",
            "Jatim Metro                 25\n",
            "Hukum - Kriminal            25\n",
            "Jatim Tengah                25\n",
            "Jatim Utara                 25\n",
            "Jatim Selatan               25\n",
            "Jatim Timur                 25\n",
            "Jatim Barat                 25\n",
            "Jatim Madura                25\n",
            "Nasional                    25\n",
            "Nusantara                   25\n",
            "Politik                     25\n",
            "Birokrasi                   25\n",
            "Religia                     25\n",
            "T&J - Islam Sehari-hari     25\n",
            "Tafsir Al Quran Aktual      25\n",
            "Pesantren                   25\n",
            "Ormas                       25\n",
            "Komunitas dan Lingkungan    25\n",
            "Name: count, dtype: int64\n"
          ]
        }
      ],
      "source": [
        "import pandas as pd\n",
        "\n",
        "# Baca dataset asli (bukan TF-IDF)\n",
        "df = pd.read_csv(\"hasil_tfidf_berita.csv\")  # ganti dengan nama file asli\n",
        "\n",
        "# Jumlah total data\n",
        "print(\"Jumlah Data:\", len(df))\n",
        "\n",
        "# Jumlah kolom\n",
        "print(\"Jumlah Kolom:\", len(df.columns))\n",
        "\n",
        "# Jumlah kategori unik\n",
        "print(\"Jumlah Kategori:\", df['kategori'].nunique())\n",
        "\n",
        "# Daftar kategori\n",
        "print(\"Daftar Kategori:\", df['kategori'].unique())\n",
        "\n",
        "# Jumlah data tiap kategori\n",
        "print(\"\\nJumlah Data per Kategori:\")\n",
        "print(df['kategori'].value_counts())"
      ]
    },
    {
      "cell_type": "markdown",
      "metadata": {
        "id": "_HV1a93aADUL"
      },
      "source": [
        "mengubah cnn.tokenized.csv ke bentuk tf idf"
      ]
    },
    {
      "cell_type": "code",
      "execution_count": 3,
      "metadata": {
        "colab": {
          "base_uri": "https://localhost:8080/"
        },
        "id": "uthwnAVkPW4x",
        "outputId": "36d23c38-0ee4-4321-8d5f-31770fe382ed"
      },
      "outputs": [
        {
          "name": "stdout",
          "output_type": "stream",
          "text": [
            "Requirement already satisfied: scikit-learn in c:\\users\\rizky\\appdata\\local\\programs\\python\\python312\\lib\\site-packages (1.7.2)\n",
            "Requirement already satisfied: numpy>=1.22.0 in c:\\users\\rizky\\appdata\\local\\programs\\python\\python312\\lib\\site-packages (from scikit-learn) (1.26.4)\n",
            "Requirement already satisfied: scipy>=1.8.0 in c:\\users\\rizky\\appdata\\local\\programs\\python\\python312\\lib\\site-packages (from scikit-learn) (1.13.1)\n",
            "Requirement already satisfied: joblib>=1.2.0 in c:\\users\\rizky\\appdata\\local\\programs\\python\\python312\\lib\\site-packages (from scikit-learn) (1.5.2)\n",
            "Requirement already satisfied: threadpoolctl>=3.1.0 in c:\\users\\rizky\\appdata\\local\\programs\\python\\python312\\lib\\site-packages (from scikit-learn) (3.6.0)\n"
          ]
        },
        {
          "name": "stderr",
          "output_type": "stream",
          "text": [
            "\n",
            "[notice] A new release of pip is available: 23.2.1 -> 25.2\n",
            "[notice] To update, run: python.exe -m pip install --upgrade pip\n"
          ]
        }
      ],
      "source": [
        "!pip install scikit-learn"
      ]
    },
    {
      "cell_type": "code",
      "execution_count": 4,
      "metadata": {
        "id": "Ta0_SN2eGlVh"
      },
      "outputs": [],
      "source": [
        "import pandas as pd\n",
        "import ast\n",
        "from sklearn.feature_extraction.text import TfidfVectorizer"
      ]
    },
    {
      "cell_type": "code",
      "execution_count": 32,
      "metadata": {
        "colab": {
          "base_uri": "https://localhost:8080/",
          "height": 677
        },
        "id": "0r1acFiIfbz5",
        "outputId": "54258e14-bbc7-4d8d-8083-c3c82e37050d"
      },
      "outputs": [
        {
          "data": {
            "text/html": [
              "<div>\n",
              "<style scoped>\n",
              "    .dataframe tbody tr th:only-of-type {\n",
              "        vertical-align: middle;\n",
              "    }\n",
              "\n",
              "    .dataframe tbody tr th {\n",
              "        vertical-align: top;\n",
              "    }\n",
              "\n",
              "    .dataframe thead th {\n",
              "        text-align: right;\n",
              "    }\n",
              "</style>\n",
              "<table border=\"1\" class=\"dataframe\">\n",
              "  <thead>\n",
              "    <tr style=\"text-align: right;\">\n",
              "      <th></th>\n",
              "      <th>isi_berita</th>\n",
              "      <th>hasil_preprocessing</th>\n",
              "      <th>kategori</th>\n",
              "    </tr>\n",
              "  </thead>\n",
              "  <tbody>\n",
              "    <tr>\n",
              "      <th>0</th>\n",
              "      <td>SIDOARJO,BANGSAONLINE.com- Proses pencarian ko...</td>\n",
              "      <td>['sidoarjobangsaonlinecom', 'proses', 'cari', ...</td>\n",
              "      <td>Jatim</td>\n",
              "    </tr>\n",
              "    <tr>\n",
              "      <th>1</th>\n",
              "      <td>PROBOLINGGO, BANGSAONLINE.com- Polres Probolin...</td>\n",
              "      <td>['probolinggo', 'bangsaonlinecom', 'polres', '...</td>\n",
              "      <td>Jatim</td>\n",
              "    </tr>\n",
              "    <tr>\n",
              "      <th>2</th>\n",
              "      <td>KOTA KEDIRI, BANGSAONLINE.com- Wakil Wali Kota...</td>\n",
              "      <td>['kota', 'diri', 'bangsaonlinecom', 'wakil', '...</td>\n",
              "      <td>Jatim</td>\n",
              "    </tr>\n",
              "    <tr>\n",
              "      <th>3</th>\n",
              "      <td>SURABAYA,BANGSAONLINE.com- Polsek Wonokromo  m...</td>\n",
              "      <td>['surabayabangsaonlinecom', 'polsek', 'wonokro...</td>\n",
              "      <td>Jatim</td>\n",
              "    </tr>\n",
              "    <tr>\n",
              "      <th>4</th>\n",
              "      <td>SIDOARJO,BANGSAONLINE.com- Polwan Polresta Sid...</td>\n",
              "      <td>['sidoarjobangsaonlinecom', 'polwan', 'polrest...</td>\n",
              "      <td>Jatim</td>\n",
              "    </tr>\n",
              "  </tbody>\n",
              "</table>\n",
              "</div>"
            ],
            "text/plain": [
              "                                          isi_berita  \\\n",
              "0  SIDOARJO,BANGSAONLINE.com- Proses pencarian ko...   \n",
              "1  PROBOLINGGO, BANGSAONLINE.com- Polres Probolin...   \n",
              "2  KOTA KEDIRI, BANGSAONLINE.com- Wakil Wali Kota...   \n",
              "3  SURABAYA,BANGSAONLINE.com- Polsek Wonokromo  m...   \n",
              "4  SIDOARJO,BANGSAONLINE.com- Polwan Polresta Sid...   \n",
              "\n",
              "                                 hasil_preprocessing kategori  \n",
              "0  ['sidoarjobangsaonlinecom', 'proses', 'cari', ...    Jatim  \n",
              "1  ['probolinggo', 'bangsaonlinecom', 'polres', '...    Jatim  \n",
              "2  ['kota', 'diri', 'bangsaonlinecom', 'wakil', '...    Jatim  \n",
              "3  ['surabayabangsaonlinecom', 'polsek', 'wonokro...    Jatim  \n",
              "4  ['sidoarjobangsaonlinecom', 'polwan', 'polrest...    Jatim  "
            ]
          },
          "execution_count": 32,
          "metadata": {},
          "output_type": "execute_result"
        }
      ],
      "source": [
        "df = pd.read_csv(\"hasil_preprocessing_berita.csv\")\n",
        "df.head()"
      ]
    },
    {
      "cell_type": "code",
      "execution_count": 33,
      "metadata": {
        "colab": {
          "base_uri": "https://localhost:8080/"
        },
        "id": "sz2vfSWvIEak",
        "outputId": "c7e9c693-2726-468d-9362-44ada8ccc560"
      },
      "outputs": [
        {
          "name": "stdout",
          "output_type": "stream",
          "text": [
            "<class 'str'>\n",
            "SIDOARJO,BANGSAONLINE.com- Proses pencarian korban para santri tertimbun reruntuhan musala ambruk di Pondok Pesantren (Ponpes) Al-Khoziny, Buduran, Sidoarjo, masih terus berlangsung hingga, Rabu (1/10/2025)siang. Seorang santri yang enggan disebut namanya mengaku jika santri lain yang melakukan pengecoran bangunan adalah sebuah hukuman bagi santri yang tidak mengikuti kegiatan. “Ambruknya pas salat berjemaah. Imamnya selamat, tapi banyak teman-teman saya yang tertimpa,” tutur santri tersebut, Rabu (1/10/2025).  Hingga kini, Tim SAR gabungan masih berjibaku menyisir puing-puing bangunan tiga lantai tersebut. Dari total ratusan santri, 120 sudah berhasil dievakuasi, namun 66 lainnya masih dalam pencarian. Di balik musibah memilukan ini, terselip kisah tentang keseharian santri di pondok. Salah satunya adalah kebiasaan pemberian hukuman bagi mereka yang tidak mengikuti kegiatan pesantren. Hukuman itu berupa ikut membantu pengecoran bangunan yang sedang dikerjakan. “Kalau ada santri yang ketahuan bolos, biasanya dihukum bantu ngecor. Tapi sebenarnya kami hanya ikut saja, karena tukangnya banyak. Santri tidak wajib, cuma disuruh bantu kalau kena hukuman,” jelas santri yang sudah enam tahun mondok tersebut.  Beruntung, saat musala itu ambruk, ia sedang tidak berada di lokasi. Ia sedang berada di luar pondok saat itu. \"Saya baru sampai pondok, musalanya sudah ambruk. Ratusan santri waktu itu sedang salat asar. Banyak yang tertimpa reruntuhan,” ujarnya. Cerita lain diungkap dari Abdul, keluarga salah satu korban. Keponakannya yang berasal dari Madura disebut sedang berada di dekat santri yang tengah membantu pengecoran sebelum musala itu runtuh. “Jadi lagi ngecor, jatuh, terus luka di wajah, giginya copot,” pungkasnya. (cat)\n"
          ]
        }
      ],
      "source": [
        "print(type(df[\"isi_berita\"].iloc[0]))\n",
        "print(df[\"isi_berita\"].iloc[0])"
      ]
    },
    {
      "cell_type": "code",
      "execution_count": 34,
      "metadata": {
        "colab": {
          "base_uri": "https://localhost:8080/",
          "height": 293
        },
        "id": "DCdOecSSnQUk",
        "outputId": "5c7a1c41-2c72-4d2c-b4df-0b769ff8fed7"
      },
      "outputs": [
        {
          "data": {
            "text/html": [
              "<div>\n",
              "<style scoped>\n",
              "    .dataframe tbody tr th:only-of-type {\n",
              "        vertical-align: middle;\n",
              "    }\n",
              "\n",
              "    .dataframe tbody tr th {\n",
              "        vertical-align: top;\n",
              "    }\n",
              "\n",
              "    .dataframe thead th {\n",
              "        text-align: right;\n",
              "    }\n",
              "</style>\n",
              "<table border=\"1\" class=\"dataframe\">\n",
              "  <thead>\n",
              "    <tr style=\"text-align: right;\">\n",
              "      <th></th>\n",
              "      <th>isi_berita</th>\n",
              "      <th>isi_tokens</th>\n",
              "    </tr>\n",
              "  </thead>\n",
              "  <tbody>\n",
              "    <tr>\n",
              "      <th>0</th>\n",
              "      <td>SIDOARJO,BANGSAONLINE.com- Proses pencarian ko...</td>\n",
              "      <td>SIDOARJO,BANGSAONLINE.com- Proses pencarian ko...</td>\n",
              "    </tr>\n",
              "    <tr>\n",
              "      <th>1</th>\n",
              "      <td>PROBOLINGGO, BANGSAONLINE.com- Polres Probolin...</td>\n",
              "      <td>PROBOLINGGO, BANGSAONLINE.com- Polres Probolin...</td>\n",
              "    </tr>\n",
              "    <tr>\n",
              "      <th>2</th>\n",
              "      <td>KOTA KEDIRI, BANGSAONLINE.com- Wakil Wali Kota...</td>\n",
              "      <td>KOTA KEDIRI, BANGSAONLINE.com- Wakil Wali Kota...</td>\n",
              "    </tr>\n",
              "    <tr>\n",
              "      <th>3</th>\n",
              "      <td>SURABAYA,BANGSAONLINE.com- Polsek Wonokromo  m...</td>\n",
              "      <td>SURABAYA,BANGSAONLINE.com- Polsek Wonokromo me...</td>\n",
              "    </tr>\n",
              "    <tr>\n",
              "      <th>4</th>\n",
              "      <td>SIDOARJO,BANGSAONLINE.com- Polwan Polresta Sid...</td>\n",
              "      <td>SIDOARJO,BANGSAONLINE.com- Polwan Polresta Sid...</td>\n",
              "    </tr>\n",
              "  </tbody>\n",
              "</table>\n",
              "</div>"
            ],
            "text/plain": [
              "                                          isi_berita  \\\n",
              "0  SIDOARJO,BANGSAONLINE.com- Proses pencarian ko...   \n",
              "1  PROBOLINGGO, BANGSAONLINE.com- Polres Probolin...   \n",
              "2  KOTA KEDIRI, BANGSAONLINE.com- Wakil Wali Kota...   \n",
              "3  SURABAYA,BANGSAONLINE.com- Polsek Wonokromo  m...   \n",
              "4  SIDOARJO,BANGSAONLINE.com- Polwan Polresta Sid...   \n",
              "\n",
              "                                          isi_tokens  \n",
              "0  SIDOARJO,BANGSAONLINE.com- Proses pencarian ko...  \n",
              "1  PROBOLINGGO, BANGSAONLINE.com- Polres Probolin...  \n",
              "2  KOTA KEDIRI, BANGSAONLINE.com- Wakil Wali Kota...  \n",
              "3  SURABAYA,BANGSAONLINE.com- Polsek Wonokromo me...  \n",
              "4  SIDOARJO,BANGSAONLINE.com- Polwan Polresta Sid...  "
            ]
          },
          "execution_count": 34,
          "metadata": {},
          "output_type": "execute_result"
        }
      ],
      "source": [
        "df[\"isi_tokens\"] = df[\"isi_berita\"].apply(lambda x: \" \".join(x.split()) if isinstance(x, str) else \"\")\n",
        "df[[\"isi_berita\", \"isi_tokens\"]].head()"
      ]
    },
    {
      "cell_type": "code",
      "execution_count": 35,
      "metadata": {
        "colab": {
          "base_uri": "https://localhost:8080/",
          "height": 255
        },
        "id": "bqi71PlviXBC",
        "outputId": "480c1771-758d-43aa-80a9-2a4e2431bef3"
      },
      "outputs": [
        {
          "data": {
            "text/html": [
              "<div>\n",
              "<style scoped>\n",
              "    .dataframe tbody tr th:only-of-type {\n",
              "        vertical-align: middle;\n",
              "    }\n",
              "\n",
              "    .dataframe tbody tr th {\n",
              "        vertical-align: top;\n",
              "    }\n",
              "\n",
              "    .dataframe thead th {\n",
              "        text-align: right;\n",
              "    }\n",
              "</style>\n",
              "<table border=\"1\" class=\"dataframe\">\n",
              "  <thead>\n",
              "    <tr style=\"text-align: right;\">\n",
              "      <th></th>\n",
              "      <th>00</th>\n",
              "      <th>000</th>\n",
              "      <th>09</th>\n",
              "      <th>10</th>\n",
              "      <th>100</th>\n",
              "      <th>11</th>\n",
              "      <th>12</th>\n",
              "      <th>13</th>\n",
              "      <th>14</th>\n",
              "      <th>15</th>\n",
              "      <th>...</th>\n",
              "      <th>wib</th>\n",
              "      <th>wilayah</th>\n",
              "      <th>wisata</th>\n",
              "      <th>wisatawan</th>\n",
              "      <th>ya</th>\n",
              "      <th>yahya</th>\n",
              "      <th>yaitu</th>\n",
              "      <th>yakni</th>\n",
              "      <th>yang</th>\n",
              "      <th>yusuf</th>\n",
              "    </tr>\n",
              "  </thead>\n",
              "  <tbody>\n",
              "    <tr>\n",
              "      <th>0</th>\n",
              "      <td>0.0</td>\n",
              "      <td>0.0</td>\n",
              "      <td>0.0</td>\n",
              "      <td>0.083043</td>\n",
              "      <td>0.0</td>\n",
              "      <td>0.0</td>\n",
              "      <td>0.0</td>\n",
              "      <td>0.0</td>\n",
              "      <td>0.0</td>\n",
              "      <td>0.000000</td>\n",
              "      <td>...</td>\n",
              "      <td>0.000000</td>\n",
              "      <td>0.0</td>\n",
              "      <td>0.0</td>\n",
              "      <td>0.0</td>\n",
              "      <td>0.0</td>\n",
              "      <td>0.0</td>\n",
              "      <td>0.0</td>\n",
              "      <td>0.000000</td>\n",
              "      <td>0.179404</td>\n",
              "      <td>0.0</td>\n",
              "    </tr>\n",
              "    <tr>\n",
              "      <th>1</th>\n",
              "      <td>0.0</td>\n",
              "      <td>0.0</td>\n",
              "      <td>0.0</td>\n",
              "      <td>0.000000</td>\n",
              "      <td>0.0</td>\n",
              "      <td>0.0</td>\n",
              "      <td>0.0</td>\n",
              "      <td>0.0</td>\n",
              "      <td>0.0</td>\n",
              "      <td>0.000000</td>\n",
              "      <td>...</td>\n",
              "      <td>0.000000</td>\n",
              "      <td>0.0</td>\n",
              "      <td>0.0</td>\n",
              "      <td>0.0</td>\n",
              "      <td>0.0</td>\n",
              "      <td>0.0</td>\n",
              "      <td>0.0</td>\n",
              "      <td>0.000000</td>\n",
              "      <td>0.086439</td>\n",
              "      <td>0.0</td>\n",
              "    </tr>\n",
              "    <tr>\n",
              "      <th>2</th>\n",
              "      <td>0.0</td>\n",
              "      <td>0.0</td>\n",
              "      <td>0.0</td>\n",
              "      <td>0.043975</td>\n",
              "      <td>0.0</td>\n",
              "      <td>0.0</td>\n",
              "      <td>0.0</td>\n",
              "      <td>0.0</td>\n",
              "      <td>0.0</td>\n",
              "      <td>0.000000</td>\n",
              "      <td>...</td>\n",
              "      <td>0.000000</td>\n",
              "      <td>0.0</td>\n",
              "      <td>0.0</td>\n",
              "      <td>0.0</td>\n",
              "      <td>0.0</td>\n",
              "      <td>0.0</td>\n",
              "      <td>0.0</td>\n",
              "      <td>0.000000</td>\n",
              "      <td>0.086366</td>\n",
              "      <td>0.0</td>\n",
              "    </tr>\n",
              "    <tr>\n",
              "      <th>3</th>\n",
              "      <td>0.0</td>\n",
              "      <td>0.0</td>\n",
              "      <td>0.0</td>\n",
              "      <td>0.098182</td>\n",
              "      <td>0.0</td>\n",
              "      <td>0.0</td>\n",
              "      <td>0.0</td>\n",
              "      <td>0.0</td>\n",
              "      <td>0.0</td>\n",
              "      <td>0.037916</td>\n",
              "      <td>...</td>\n",
              "      <td>0.038447</td>\n",
              "      <td>0.0</td>\n",
              "      <td>0.0</td>\n",
              "      <td>0.0</td>\n",
              "      <td>0.0</td>\n",
              "      <td>0.0</td>\n",
              "      <td>0.0</td>\n",
              "      <td>0.037508</td>\n",
              "      <td>0.038565</td>\n",
              "      <td>0.0</td>\n",
              "    </tr>\n",
              "    <tr>\n",
              "      <th>4</th>\n",
              "      <td>0.0</td>\n",
              "      <td>0.0</td>\n",
              "      <td>0.0</td>\n",
              "      <td>0.081436</td>\n",
              "      <td>0.0</td>\n",
              "      <td>0.0</td>\n",
              "      <td>0.0</td>\n",
              "      <td>0.0</td>\n",
              "      <td>0.0</td>\n",
              "      <td>0.000000</td>\n",
              "      <td>...</td>\n",
              "      <td>0.000000</td>\n",
              "      <td>0.0</td>\n",
              "      <td>0.0</td>\n",
              "      <td>0.0</td>\n",
              "      <td>0.0</td>\n",
              "      <td>0.0</td>\n",
              "      <td>0.0</td>\n",
              "      <td>0.000000</td>\n",
              "      <td>0.095962</td>\n",
              "      <td>0.0</td>\n",
              "    </tr>\n",
              "  </tbody>\n",
              "</table>\n",
              "<p>5 rows × 1000 columns</p>\n",
              "</div>"
            ],
            "text/plain": [
              "    00  000   09        10  100   11   12   13   14        15  ...       wib  \\\n",
              "0  0.0  0.0  0.0  0.083043  0.0  0.0  0.0  0.0  0.0  0.000000  ...  0.000000   \n",
              "1  0.0  0.0  0.0  0.000000  0.0  0.0  0.0  0.0  0.0  0.000000  ...  0.000000   \n",
              "2  0.0  0.0  0.0  0.043975  0.0  0.0  0.0  0.0  0.0  0.000000  ...  0.000000   \n",
              "3  0.0  0.0  0.0  0.098182  0.0  0.0  0.0  0.0  0.0  0.037916  ...  0.038447   \n",
              "4  0.0  0.0  0.0  0.081436  0.0  0.0  0.0  0.0  0.0  0.000000  ...  0.000000   \n",
              "\n",
              "   wilayah  wisata  wisatawan   ya  yahya  yaitu     yakni      yang  yusuf  \n",
              "0      0.0     0.0        0.0  0.0    0.0    0.0  0.000000  0.179404    0.0  \n",
              "1      0.0     0.0        0.0  0.0    0.0    0.0  0.000000  0.086439    0.0  \n",
              "2      0.0     0.0        0.0  0.0    0.0    0.0  0.000000  0.086366    0.0  \n",
              "3      0.0     0.0        0.0  0.0    0.0    0.0  0.037508  0.038565    0.0  \n",
              "4      0.0     0.0        0.0  0.0    0.0    0.0  0.000000  0.095962    0.0  \n",
              "\n",
              "[5 rows x 1000 columns]"
            ]
          },
          "execution_count": 35,
          "metadata": {},
          "output_type": "execute_result"
        }
      ],
      "source": [
        "vectorizer = TfidfVectorizer(max_features=1000)  # ambil 1000 fitur teratas\n",
        "\n",
        "X_tfidf = vectorizer.fit_transform(df[\"isi_tokens\"])\n",
        "\n",
        "tfidf_df = pd.DataFrame(X_tfidf.toarray(), columns=vectorizer.get_feature_names_out())\n",
        "\n",
        "tfidf_df.head()"
      ]
    },
    {
      "cell_type": "markdown",
      "metadata": {
        "id": "R05V9P0moIOk"
      },
      "source": [
        "Word Embeding"
      ]
    },
    {
      "cell_type": "code",
      "execution_count": 13,
      "metadata": {
        "colab": {
          "base_uri": "https://localhost:8080/",
          "height": 688
        },
        "id": "gZvKo3GnhJzK",
        "outputId": "423e575c-5051-4981-a218-09f497841172"
      },
      "outputs": [
        {
          "name": "stdout",
          "output_type": "stream",
          "text": [
            "Requirement already satisfied: gensim in c:\\users\\rizky\\appdata\\local\\programs\\python\\python312\\lib\\site-packages (4.3.3)\n",
            "Requirement already satisfied: numpy<2.0,>=1.18.5 in c:\\users\\rizky\\appdata\\local\\programs\\python\\python312\\lib\\site-packages (from gensim) (1.26.4)\n",
            "Requirement already satisfied: scipy<1.14.0,>=1.7.0 in c:\\users\\rizky\\appdata\\local\\programs\\python\\python312\\lib\\site-packages (from gensim) (1.13.1)\n",
            "Requirement already satisfied: smart-open>=1.8.1 in c:\\users\\rizky\\appdata\\local\\programs\\python\\python312\\lib\\site-packages (from gensim) (7.3.1)\n",
            "Requirement already satisfied: wrapt in c:\\users\\rizky\\appdata\\local\\programs\\python\\python312\\lib\\site-packages (from smart-open>=1.8.1->gensim) (1.17.3)\n"
          ]
        },
        {
          "name": "stderr",
          "output_type": "stream",
          "text": [
            "\n",
            "[notice] A new release of pip is available: 23.2.1 -> 25.2\n",
            "[notice] To update, run: python.exe -m pip install --upgrade pip\n"
          ]
        }
      ],
      "source": [
        "!pip install gensim"
      ]
    },
    {
      "cell_type": "code",
      "execution_count": 14,
      "metadata": {
        "id": "Mv43ELIOoVxK"
      },
      "outputs": [],
      "source": [
        "import pandas as pd\n",
        "import ast\n",
        "from gensim.models import Word2Vec"
      ]
    },
    {
      "cell_type": "code",
      "execution_count": 40,
      "metadata": {
        "colab": {
          "base_uri": "https://localhost:8080/",
          "height": 677
        },
        "id": "n0qH8FxeILBV",
        "outputId": "e2d33f9f-e8cd-4f64-8ee4-68f532e6c41b"
      },
      "outputs": [
        {
          "data": {
            "text/html": [
              "<div>\n",
              "<style scoped>\n",
              "    .dataframe tbody tr th:only-of-type {\n",
              "        vertical-align: middle;\n",
              "    }\n",
              "\n",
              "    .dataframe tbody tr th {\n",
              "        vertical-align: top;\n",
              "    }\n",
              "\n",
              "    .dataframe thead th {\n",
              "        text-align: right;\n",
              "    }\n",
              "</style>\n",
              "<table border=\"1\" class=\"dataframe\">\n",
              "  <thead>\n",
              "    <tr style=\"text-align: right;\">\n",
              "      <th></th>\n",
              "      <th>isi_berita</th>\n",
              "      <th>hasil_preprocessing</th>\n",
              "      <th>kategori</th>\n",
              "    </tr>\n",
              "  </thead>\n",
              "  <tbody>\n",
              "    <tr>\n",
              "      <th>0</th>\n",
              "      <td>SIDOARJO,BANGSAONLINE.com- Proses pencarian ko...</td>\n",
              "      <td>['sidoarjobangsaonlinecom', 'proses', 'cari', ...</td>\n",
              "      <td>Jatim</td>\n",
              "    </tr>\n",
              "    <tr>\n",
              "      <th>1</th>\n",
              "      <td>PROBOLINGGO, BANGSAONLINE.com- Polres Probolin...</td>\n",
              "      <td>['probolinggo', 'bangsaonlinecom', 'polres', '...</td>\n",
              "      <td>Jatim</td>\n",
              "    </tr>\n",
              "    <tr>\n",
              "      <th>2</th>\n",
              "      <td>KOTA KEDIRI, BANGSAONLINE.com- Wakil Wali Kota...</td>\n",
              "      <td>['kota', 'diri', 'bangsaonlinecom', 'wakil', '...</td>\n",
              "      <td>Jatim</td>\n",
              "    </tr>\n",
              "    <tr>\n",
              "      <th>3</th>\n",
              "      <td>SURABAYA,BANGSAONLINE.com- Polsek Wonokromo  m...</td>\n",
              "      <td>['surabayabangsaonlinecom', 'polsek', 'wonokro...</td>\n",
              "      <td>Jatim</td>\n",
              "    </tr>\n",
              "    <tr>\n",
              "      <th>4</th>\n",
              "      <td>SIDOARJO,BANGSAONLINE.com- Polwan Polresta Sid...</td>\n",
              "      <td>['sidoarjobangsaonlinecom', 'polwan', 'polrest...</td>\n",
              "      <td>Jatim</td>\n",
              "    </tr>\n",
              "  </tbody>\n",
              "</table>\n",
              "</div>"
            ],
            "text/plain": [
              "                                          isi_berita  \\\n",
              "0  SIDOARJO,BANGSAONLINE.com- Proses pencarian ko...   \n",
              "1  PROBOLINGGO, BANGSAONLINE.com- Polres Probolin...   \n",
              "2  KOTA KEDIRI, BANGSAONLINE.com- Wakil Wali Kota...   \n",
              "3  SURABAYA,BANGSAONLINE.com- Polsek Wonokromo  m...   \n",
              "4  SIDOARJO,BANGSAONLINE.com- Polwan Polresta Sid...   \n",
              "\n",
              "                                 hasil_preprocessing kategori  \n",
              "0  ['sidoarjobangsaonlinecom', 'proses', 'cari', ...    Jatim  \n",
              "1  ['probolinggo', 'bangsaonlinecom', 'polres', '...    Jatim  \n",
              "2  ['kota', 'diri', 'bangsaonlinecom', 'wakil', '...    Jatim  \n",
              "3  ['surabayabangsaonlinecom', 'polsek', 'wonokro...    Jatim  \n",
              "4  ['sidoarjobangsaonlinecom', 'polwan', 'polrest...    Jatim  "
            ]
          },
          "execution_count": 40,
          "metadata": {},
          "output_type": "execute_result"
        }
      ],
      "source": [
        "df = pd.read_csv(\"hasil_preprocessing_berita.csv\")\n",
        "df.head()"
      ]
    },
    {
      "cell_type": "code",
      "execution_count": null,
      "metadata": {
        "id": "0Ol_v7nQIgbP"
      },
      "outputs": [
        {
          "ename": "SyntaxError",
          "evalue": "invalid non-printable character U+00A0 (<unknown>, line 1)",
          "output_type": "error",
          "traceback": [
            "Traceback \u001b[36m(most recent call last)\u001b[39m:\n",
            "  File \u001b[92m~\\AppData\\Roaming\\Python\\Python312\\site-packages\\IPython\\core\\interactiveshell.py:3699\u001b[39m in \u001b[95mrun_code\u001b[39m\n    exec(code_obj, self.user_global_ns, self.user_ns)\n",
            "  Cell \u001b[92mIn[41]\u001b[39m\u001b[92m, line 1\u001b[39m\n    corpus = df[\"isi_berita\"].apply(lambda x: ast.literal_eval(x) if isinstance(x, str) else []).tolist()\n",
            "  File \u001b[92mc:\\Users\\Rizky\\AppData\\Local\\Programs\\Python\\Python312\\Lib\\site-packages\\pandas\\core\\series.py:4943\u001b[39m in \u001b[95mapply\u001b[39m\n    ).apply()\n",
            "  File \u001b[92mc:\\Users\\Rizky\\AppData\\Local\\Programs\\Python\\Python312\\Lib\\site-packages\\pandas\\core\\apply.py:1422\u001b[39m in \u001b[95mapply\u001b[39m\n    return self.apply_standard()\n",
            "  File \u001b[92mc:\\Users\\Rizky\\AppData\\Local\\Programs\\Python\\Python312\\Lib\\site-packages\\pandas\\core\\apply.py:1502\u001b[39m in \u001b[95mapply_standard\u001b[39m\n    mapped = obj._map_values(\n",
            "  File \u001b[92mc:\\Users\\Rizky\\AppData\\Local\\Programs\\Python\\Python312\\Lib\\site-packages\\pandas\\core\\base.py:925\u001b[39m in \u001b[95m_map_values\u001b[39m\n    return algorithms.map_array(arr, mapper, na_action=na_action, convert=convert)\n",
            "  File \u001b[92mc:\\Users\\Rizky\\AppData\\Local\\Programs\\Python\\Python312\\Lib\\site-packages\\pandas\\core\\algorithms.py:1743\u001b[39m in \u001b[95mmap_array\u001b[39m\n    return lib.map_infer(values, mapper, convert=convert)\n",
            "  File \u001b[92mpandas/_libs/lib.pyx:2999\u001b[39m in \u001b[95mpandas._libs.lib.map_infer\u001b[39m\n",
            "  Cell \u001b[92mIn[41]\u001b[39m\u001b[92m, line 1\u001b[39m in \u001b[95m<lambda>\u001b[39m\n    corpus = df[\"isi_berita\"].apply(lambda x: ast.literal_eval(x) if isinstance(x, str) else []).tolist()\n",
            "  File \u001b[92mc:\\Users\\Rizky\\AppData\\Local\\Programs\\Python\\Python312\\Lib\\ast.py:66\u001b[39m in \u001b[95mliteral_eval\u001b[39m\n    node_or_string = parse(node_or_string.lstrip(\" \\t\"), mode='eval')\n",
            "\u001b[36m  \u001b[39m\u001b[36mFile \u001b[39m\u001b[32mc:\\Users\\Rizky\\AppData\\Local\\Programs\\Python\\Python312\\Lib\\ast.py:52\u001b[39m\u001b[36m in \u001b[39m\u001b[35mparse\u001b[39m\n\u001b[31m    \u001b[39m\u001b[31mreturn compile(source, filename, mode, flags,\u001b[39m\n",
            "  \u001b[36mFile \u001b[39m\u001b[32m<unknown>:1\u001b[39m\n\u001b[31m    \u001b[39m\u001b[31mSIDOARJO,BANGSAONLINE.com- Proses pencarian korban para santri tertimbun reruntuhan musala ambruk di Pondok Pesantren (Ponpes) Al-Khoziny, Buduran, Sidoarjo, masih terus berlangsung hingga, Rabu (1/10/2025)siang. Seorang santri yang enggan disebut namanya mengaku jika santri lain yang melakukan pengecoran bangunan adalah sebuah hukuman bagi santri yang tidak mengikuti kegiatan. “Ambruknya pas salat berjemaah. Imamnya selamat, tapi banyak teman-teman saya yang tertimpa,” tutur santri tersebut, Rabu (1/10/2025).  Hingga kini, Tim SAR gabungan masih berjibaku menyisir puing-puing bangunan tiga lantai tersebut. Dari total ratusan santri, 120 sudah berhasil dievakuasi, namun 66 lainnya masih dalam pencarian. Di balik musibah memilukan ini, terselip kisah tentang keseharian santri di pondok. Salah satunya adalah kebiasaan pemberian hukuman bagi mereka yang tidak mengikuti kegiatan pesantren. Hukuman itu berupa ikut membantu pengecoran bangunan yang sedang dikerjakan. “Kalau ada santri yang ketahuan bolos, biasanya dihukum bantu ngecor. Tapi sebenarnya kami hanya ikut saja, karena tukangnya banyak. Santri tidak wajib, cuma disuruh bantu kalau kena hukuman,” jelas santri yang sudah enam tahun mondok tersebut.  Beruntung, saat musala itu ambruk, ia sedang tidak berada di lokasi. Ia sedang berada di luar pondok saat itu. \"Saya baru sampai pondok, musalanya sudah ambruk. Ratusan santri waktu itu sedang salat asar. Banyak yang tertimpa reruntuhan,” ujarnya. Cerita lain diungkap dari Abdul, keluarga salah satu korban. Keponakannya yang berasal dari Madura disebut sedang berada di dekat santri yang tengah membantu pengecoran sebelum musala itu runtuh. “Jadi lagi ngecor, jatuh, terus luka di wajah, giginya copot,” pungkasnya. (cat)\u001b[39m\n                              ^\n\u001b[31mSyntaxError\u001b[39m\u001b[31m:\u001b[39m invalid non-printable character U+00A0\n"
          ]
        },
        {
          "ename": "",
          "evalue": "",
          "output_type": "error",
          "traceback": [
            "\u001b[1;31mThe Kernel crashed while executing code in the current cell or a previous cell. \n",
            "\u001b[1;31mPlease review the code in the cell(s) to identify a possible cause of the failure. \n",
            "\u001b[1;31mClick <a href='https://aka.ms/vscodeJupyterKernelCrash'>here</a> for more info. \n",
            "\u001b[1;31mView Jupyter <a href='command:jupyter.viewOutput'>log</a> for further details."
          ]
        }
      ],
      "source": [
        "corpus = df[\"isi_berita\"].apply(lambda x: ast.literal_eval(x) if isinstance(x, str) else []).tolist()"
      ]
    },
    {
      "cell_type": "code",
      "execution_count": 20,
      "metadata": {
        "id": "LkdcfB4JI5UM"
      },
      "outputs": [],
      "source": [
        "model = Word2Vec(\n",
        "    sentences=corpus,\n",
        "    vector_size=100,   # dimensi vektor\n",
        "    window=5,          # konteks window\n",
        "    min_count=2,       # kata muncul minimal 2 kali\n",
        "    sg=1,              # 1=skip-gram, 0=CBOW\n",
        "    workers=4)"
      ]
    },
    {
      "cell_type": "code",
      "execution_count": 21,
      "metadata": {
        "id": "y-61bxENJSNp"
      },
      "outputs": [],
      "source": [
        "model.save(\"word2vec_berita.model\")"
      ]
    },
    {
      "cell_type": "code",
      "execution_count": 22,
      "metadata": {
        "colab": {
          "base_uri": "https://localhost:8080/"
        },
        "id": "_ICGCZ1EIj5M",
        "outputId": "96c308da-2033-47f0-e1b4-e762e27b4fb3"
      },
      "outputs": [
        {
          "name": "stdout",
          "output_type": "stream",
          "text": [
            "\n",
            "Vektor untuk kata 'indonesia':\n",
            "[ 0.01026822  0.00298316  0.00472312 -0.0051465   0.00392581 -0.00051016\n",
            " -0.00951255  0.00639311 -0.0099055  -0.00736016]\n",
            "\n",
            "Kata yang mirip dengan 'indonesia':\n",
            "[('salah', 0.36695408821105957), ('kembang', 0.24551594257354736), ('timpa', 0.2325393706560135), ('santri', 0.2102644443511963), ('ambruk', 0.2069980800151825)]\n"
          ]
        }
      ],
      "source": [
        "# === Cek hasil ===\n",
        "print(\"\\nVektor untuk kata 'indonesia':\")\n",
        "print(model.wv['indonesia'][:10])\n",
        "\n",
        "print(\"\\nKata yang mirip dengan 'indonesia':\")\n",
        "print(model.wv.most_similar(\"indonesia\", topn=5))"
      ]
    },
    {
      "cell_type": "markdown",
      "metadata": {
        "id": "9lRPJQahpZ9X"
      },
      "source": [
        "Klasifikasi TF-IDF & WordEmbedding2Vec"
      ]
    },
    {
      "cell_type": "code",
      "execution_count": 23,
      "metadata": {
        "id": "Rt6K-TebIozU"
      },
      "outputs": [],
      "source": [
        "import pandas as pd\n",
        "import ast\n",
        "from sklearn.feature_extraction.text import TfidfVectorizer\n",
        "from sklearn.model_selection import train_test_split\n",
        "from sklearn.naive_bayes import MultinomialNB\n",
        "from sklearn.linear_model import LogisticRegression\n",
        "from sklearn.metrics import accuracy_score, classification_report"
      ]
    },
    {
      "cell_type": "code",
      "execution_count": 24,
      "metadata": {
        "id": "mlPDlCPSJgNH"
      },
      "outputs": [],
      "source": [
        "from gensim.models import Word2Vec\n",
        "import numpy as np"
      ]
    },
    {
      "cell_type": "code",
      "execution_count": 25,
      "metadata": {
        "colab": {
          "base_uri": "https://localhost:8080/",
          "height": 677
        },
        "id": "gjuhTkU0J4K1",
        "outputId": "1445b778-2d76-4cd1-87d0-328127e68779"
      },
      "outputs": [
        {
          "data": {
            "text/html": [
              "<div>\n",
              "<style scoped>\n",
              "    .dataframe tbody tr th:only-of-type {\n",
              "        vertical-align: middle;\n",
              "    }\n",
              "\n",
              "    .dataframe tbody tr th {\n",
              "        vertical-align: top;\n",
              "    }\n",
              "\n",
              "    .dataframe thead th {\n",
              "        text-align: right;\n",
              "    }\n",
              "</style>\n",
              "<table border=\"1\" class=\"dataframe\">\n",
              "  <thead>\n",
              "    <tr style=\"text-align: right;\">\n",
              "      <th></th>\n",
              "      <th>id_berita</th>\n",
              "      <th>kategori</th>\n",
              "      <th>judul</th>\n",
              "      <th>isi_berita</th>\n",
              "      <th>link</th>\n",
              "      <th>isi_clean</th>\n",
              "      <th>isi_nosymbol</th>\n",
              "      <th>isi_stemmed</th>\n",
              "      <th>isi_tokens</th>\n",
              "    </tr>\n",
              "  </thead>\n",
              "  <tbody>\n",
              "    <tr>\n",
              "      <th>0</th>\n",
              "      <td>153055</td>\n",
              "      <td>Jatim</td>\n",
              "      <td>Ada Santri yang Diduga Dihukum untuk Cor Bangu...</td>\n",
              "      <td>SIDOARJO,BANGSAONLINE.com- Proses pencarian ko...</td>\n",
              "      <td>https://bangsaonline.com/berita/153055/ada-san...</td>\n",
              "      <td>sidoarjo,bangsaonline.com- proses pencarian ko...</td>\n",
              "      <td>sidoarjobangsaonlinecom proses pencarian korba...</td>\n",
              "      <td>sidoarjobangsaonlinecom proses cari korban san...</td>\n",
              "      <td>['sidoarjobangsaonlinecom', 'proses', 'cari', ...</td>\n",
              "    </tr>\n",
              "    <tr>\n",
              "      <th>1</th>\n",
              "      <td>153054</td>\n",
              "      <td>Jatim</td>\n",
              "      <td>Warga Dringu Lapor Dugaan Penipuan Kavling, Po...</td>\n",
              "      <td>PROBOLINGGO, BANGSAONLINE.com- Polres Probolin...</td>\n",
              "      <td>https://bangsaonline.com/berita/153054/warga-d...</td>\n",
              "      <td>probolinggo, bangsaonline.com- polres probolin...</td>\n",
              "      <td>probolinggo bangsaonlinecom polres probolinggo...</td>\n",
              "      <td>probolinggo bangsaonlinecom polres probolinggo...</td>\n",
              "      <td>['probolinggo', 'bangsaonlinecom', 'polres', '...</td>\n",
              "    </tr>\n",
              "    <tr>\n",
              "      <th>2</th>\n",
              "      <td>153053</td>\n",
              "      <td>Jatim</td>\n",
              "      <td>Hadiri Pengukuhan Pengurus Kormi Kota Kediri, ...</td>\n",
              "      <td>KOTA KEDIRI, BANGSAONLINE.com- Wakil Wali Kota...</td>\n",
              "      <td>https://bangsaonline.com/berita/153053/hadiri-...</td>\n",
              "      <td>kota kediri, bangsaonline.com- wakil wali kota...</td>\n",
              "      <td>kota kediri bangsaonlinecom wakil wali kota ke...</td>\n",
              "      <td>kota diri bangsaonlinecom wakil wali kota diri...</td>\n",
              "      <td>['kota', 'diri', 'bangsaonlinecom', 'wakil', '...</td>\n",
              "    </tr>\n",
              "  </tbody>\n",
              "</table>\n",
              "</div>"
            ],
            "text/plain": [
              "   id_berita kategori                                              judul  \\\n",
              "0     153055    Jatim  Ada Santri yang Diduga Dihukum untuk Cor Bangu...   \n",
              "1     153054    Jatim  Warga Dringu Lapor Dugaan Penipuan Kavling, Po...   \n",
              "2     153053    Jatim  Hadiri Pengukuhan Pengurus Kormi Kota Kediri, ...   \n",
              "\n",
              "                                          isi_berita  \\\n",
              "0  SIDOARJO,BANGSAONLINE.com- Proses pencarian ko...   \n",
              "1  PROBOLINGGO, BANGSAONLINE.com- Polres Probolin...   \n",
              "2  KOTA KEDIRI, BANGSAONLINE.com- Wakil Wali Kota...   \n",
              "\n",
              "                                                link  \\\n",
              "0  https://bangsaonline.com/berita/153055/ada-san...   \n",
              "1  https://bangsaonline.com/berita/153054/warga-d...   \n",
              "2  https://bangsaonline.com/berita/153053/hadiri-...   \n",
              "\n",
              "                                           isi_clean  \\\n",
              "0  sidoarjo,bangsaonline.com- proses pencarian ko...   \n",
              "1  probolinggo, bangsaonline.com- polres probolin...   \n",
              "2  kota kediri, bangsaonline.com- wakil wali kota...   \n",
              "\n",
              "                                        isi_nosymbol  \\\n",
              "0  sidoarjobangsaonlinecom proses pencarian korba...   \n",
              "1  probolinggo bangsaonlinecom polres probolinggo...   \n",
              "2  kota kediri bangsaonlinecom wakil wali kota ke...   \n",
              "\n",
              "                                         isi_stemmed  \\\n",
              "0  sidoarjobangsaonlinecom proses cari korban san...   \n",
              "1  probolinggo bangsaonlinecom polres probolinggo...   \n",
              "2  kota diri bangsaonlinecom wakil wali kota diri...   \n",
              "\n",
              "                                          isi_tokens  \n",
              "0  ['sidoarjobangsaonlinecom', 'proses', 'cari', ...  \n",
              "1  ['probolinggo', 'bangsaonlinecom', 'polres', '...  \n",
              "2  ['kota', 'diri', 'bangsaonlinecom', 'wakil', '...  "
            ]
          },
          "execution_count": 25,
          "metadata": {},
          "output_type": "execute_result"
        }
      ],
      "source": [
        "df = pd.read_csv(\"hasil_tokenized_berita.csv\")\n",
        "df.head()"
      ]
    },
    {
      "cell_type": "code",
      "execution_count": 26,
      "metadata": {
        "id": "c3jzHDlsKqKo"
      },
      "outputs": [],
      "source": [
        "# Gabungkan token untuk TF-IDF\n",
        "df[\"isi_tokenized\"] = df[\"isi_clean\"].apply(lambda x: \" \".join(x.split()) if isinstance(x, str) else \"\")\n",
        "\n",
        "# Buat list of tokens untuk Word2Vec\n",
        "corpus = df[\"isi_clean\"].apply(lambda x: x.split() if isinstance(x, str) else []).tolist()"
      ]
    },
    {
      "cell_type": "code",
      "execution_count": 27,
      "metadata": {
        "id": "Ub9WI_oILEY6"
      },
      "outputs": [],
      "source": [
        "X_text = df[\"isi_tokens\"]\n",
        "y = df[\"kategori\"]\n",
        "\n",
        "# === Split data (train/test) ===\n",
        "X_train, X_test, y_train, y_test, corpus_train, corpus_test = train_test_split(X_text, y, corpus, test_size=0.2, random_state=42)"
      ]
    },
    {
      "cell_type": "code",
      "execution_count": 29,
      "metadata": {
        "colab": {
          "base_uri": "https://localhost:8080/"
        },
        "id": "PTuFWfCCLFf2",
        "outputId": "a6988ad3-4447-4219-f4d7-d50a6de188b2"
      },
      "outputs": [
        {
          "name": "stdout",
          "output_type": "stream",
          "text": [
            "=== Hasil TF-IDF + Naive Bayes ===\n",
            "Akurasi: 1.0\n",
            "              precision    recall  f1-score   support\n",
            "\n",
            "       Jatim       1.00      1.00      1.00         1\n",
            "\n",
            "    accuracy                           1.00         1\n",
            "   macro avg       1.00      1.00      1.00         1\n",
            "weighted avg       1.00      1.00      1.00         1\n",
            "\n"
          ]
        }
      ],
      "source": [
        "# TF-IDF Vectorization\n",
        "vectorizer = TfidfVectorizer(max_features=5000)\n",
        "X_train_tfidf = vectorizer.fit_transform(X_train)\n",
        "X_test_tfidf = vectorizer.transform(X_test)\n",
        "\n",
        "# Naive Bayes (cocok untuk teks)\n",
        "model_tfidf = MultinomialNB()\n",
        "model_tfidf.fit(X_train_tfidf, y_train)\n",
        "\n",
        "# Prediksi\n",
        "y_pred_tfidf = model_tfidf.predict(X_test_tfidf)\n",
        "\n",
        "print(\"=== Hasil TF-IDF + Naive Bayes ===\")\n",
        "print(\"Akurasi:\", accuracy_score(y_test, y_pred_tfidf))\n",
        "print(classification_report(y_test, y_pred_tfidf))"
      ]
    },
    {
      "cell_type": "code",
      "execution_count": 30,
      "metadata": {
        "colab": {
          "base_uri": "https://localhost:8080/"
        },
        "id": "lku5R61PLPYW",
        "outputId": "70ef8213-853d-4262-ac43-b3474a2c9443"
      },
      "outputs": [
        {
          "ename": "ValueError",
          "evalue": "This solver needs samples of at least 2 classes in the data, but the data contains only one class: 'Jatim'",
          "output_type": "error",
          "traceback": [
            "\u001b[31m---------------------------------------------------------------------------\u001b[39m",
            "\u001b[31mValueError\u001b[39m                                Traceback (most recent call last)",
            "\u001b[36mCell\u001b[39m\u001b[36m \u001b[39m\u001b[32mIn[30]\u001b[39m\u001b[32m, line 17\u001b[39m\n\u001b[32m     15\u001b[39m \u001b[38;5;66;03m# Logistic Regression (cocok untuk dense vector)\u001b[39;00m\n\u001b[32m     16\u001b[39m model_w2v = LogisticRegression(max_iter=\u001b[32m1000\u001b[39m)\n\u001b[32m---> \u001b[39m\u001b[32m17\u001b[39m \u001b[43mmodel_w2v\u001b[49m\u001b[43m.\u001b[49m\u001b[43mfit\u001b[49m\u001b[43m(\u001b[49m\u001b[43mX_train_w2v\u001b[49m\u001b[43m,\u001b[49m\u001b[43m \u001b[49m\u001b[43my_train\u001b[49m\u001b[43m)\u001b[49m\n\u001b[32m     19\u001b[39m \u001b[38;5;66;03m# Prediksi\u001b[39;00m\n\u001b[32m     20\u001b[39m y_pred_w2v = model_w2v.predict(X_test_w2v)\n",
            "\u001b[36mFile \u001b[39m\u001b[32mc:\\Users\\Rizky\\AppData\\Local\\Programs\\Python\\Python312\\Lib\\site-packages\\sklearn\\base.py:1365\u001b[39m, in \u001b[36m_fit_context.<locals>.decorator.<locals>.wrapper\u001b[39m\u001b[34m(estimator, *args, **kwargs)\u001b[39m\n\u001b[32m   1358\u001b[39m     estimator._validate_params()\n\u001b[32m   1360\u001b[39m \u001b[38;5;28;01mwith\u001b[39;00m config_context(\n\u001b[32m   1361\u001b[39m     skip_parameter_validation=(\n\u001b[32m   1362\u001b[39m         prefer_skip_nested_validation \u001b[38;5;129;01mor\u001b[39;00m global_skip_validation\n\u001b[32m   1363\u001b[39m     )\n\u001b[32m   1364\u001b[39m ):\n\u001b[32m-> \u001b[39m\u001b[32m1365\u001b[39m     \u001b[38;5;28;01mreturn\u001b[39;00m \u001b[43mfit_method\u001b[49m\u001b[43m(\u001b[49m\u001b[43mestimator\u001b[49m\u001b[43m,\u001b[49m\u001b[43m \u001b[49m\u001b[43m*\u001b[49m\u001b[43margs\u001b[49m\u001b[43m,\u001b[49m\u001b[43m \u001b[49m\u001b[43m*\u001b[49m\u001b[43m*\u001b[49m\u001b[43mkwargs\u001b[49m\u001b[43m)\u001b[49m\n",
            "\u001b[36mFile \u001b[39m\u001b[32mc:\\Users\\Rizky\\AppData\\Local\\Programs\\Python\\Python312\\Lib\\site-packages\\sklearn\\linear_model\\_logistic.py:1335\u001b[39m, in \u001b[36mLogisticRegression.fit\u001b[39m\u001b[34m(self, X, y, sample_weight)\u001b[39m\n\u001b[32m   1333\u001b[39m classes_ = \u001b[38;5;28mself\u001b[39m.classes_\n\u001b[32m   1334\u001b[39m \u001b[38;5;28;01mif\u001b[39;00m n_classes < \u001b[32m2\u001b[39m:\n\u001b[32m-> \u001b[39m\u001b[32m1335\u001b[39m     \u001b[38;5;28;01mraise\u001b[39;00m \u001b[38;5;167;01mValueError\u001b[39;00m(\n\u001b[32m   1336\u001b[39m         \u001b[33m\"\u001b[39m\u001b[33mThis solver needs samples of at least 2 classes\u001b[39m\u001b[33m\"\u001b[39m\n\u001b[32m   1337\u001b[39m         \u001b[33m\"\u001b[39m\u001b[33m in the data, but the data contains only one\u001b[39m\u001b[33m\"\u001b[39m\n\u001b[32m   1338\u001b[39m         \u001b[33m\"\u001b[39m\u001b[33m class: \u001b[39m\u001b[38;5;132;01m%r\u001b[39;00m\u001b[33m\"\u001b[39m % classes_[\u001b[32m0\u001b[39m]\n\u001b[32m   1339\u001b[39m     )\n\u001b[32m   1341\u001b[39m \u001b[38;5;28;01mif\u001b[39;00m \u001b[38;5;28mlen\u001b[39m(\u001b[38;5;28mself\u001b[39m.classes_) == \u001b[32m2\u001b[39m:\n\u001b[32m   1342\u001b[39m     n_classes = \u001b[32m1\u001b[39m\n",
            "\u001b[31mValueError\u001b[39m: This solver needs samples of at least 2 classes in the data, but the data contains only one class: 'Jatim'"
          ]
        }
      ],
      "source": [
        "# Train Word2Vec dari corpus train\n",
        "w2v_model = Word2Vec(sentences=corpus_train, vector_size=100, window=5, min_count=2, sg=1)\n",
        "\n",
        "# Fungsi untuk ubah dokumen jadi rata-rata embedding\n",
        "def document_vector(doc):\n",
        "    doc = [word for word in doc if word in w2v_model.wv]\n",
        "    if len(doc) == 0:\n",
        "        return np.zeros(w2v_model.vector_size)\n",
        "    return np.mean(w2v_model.wv[doc], axis=0)\n",
        "\n",
        "# Transform ke vektor\n",
        "X_train_w2v = np.array([document_vector(doc) for doc in corpus_train])\n",
        "X_test_w2v = np.array([document_vector(doc) for doc in corpus_test])\n",
        "\n",
        "# Logistic Regression (cocok untuk dense vector)\n",
        "model_w2v = LogisticRegression(max_iter=1000)\n",
        "model_w2v.fit(X_train_w2v, y_train)\n",
        "\n",
        "# Prediksi\n",
        "y_pred_w2v = model_w2v.predict(X_test_w2v)\n",
        "\n",
        "print(\"=== Hasil Word2Vec + Logistic Regression ===\")\n",
        "print(\"Akurasi:\", accuracy_score(y_test, y_pred_w2v))\n",
        "print(classification_report(y_test, y_pred_w2v))"
      ]
    },
    {
      "cell_type": "code",
      "execution_count": 19,
      "metadata": {
        "colab": {
          "base_uri": "https://localhost:8080/"
        },
        "id": "ewtiVGg5LR-W",
        "outputId": "cebd96d5-3e26-4428-c225-cee76cdc06f7"
      },
      "outputs": [
        {
          "name": "stdout",
          "output_type": "stream",
          "text": [
            "\n",
            "=== Perbandingan Akurasi ===\n",
            "TF-IDF + Naive Bayes        : 0.7188\n",
            "Word2Vec + LogisticReg      : 0.1938\n"
          ]
        }
      ],
      "source": [
        "acc_tfidf = accuracy_score(y_test, y_pred_tfidf)\n",
        "acc_w2v = accuracy_score(y_test, y_pred_w2v)\n",
        "\n",
        "print(\"\\n=== Perbandingan Akurasi ===\")\n",
        "print(f\"TF-IDF + Naive Bayes        : {acc_tfidf:.4f}\")\n",
        "print(f\"Word2Vec + LogisticReg      : {acc_w2v:.4f}\")"
      ]
    },
    {
      "cell_type": "code",
      "execution_count": 31,
      "metadata": {
        "colab": {
          "base_uri": "https://localhost:8080/"
        },
        "id": "JHwKXKPLLV66",
        "outputId": "04e47318-07fb-463e-b3e0-4b266f2acc00"
      },
      "outputs": [
        {
          "name": "stdout",
          "output_type": "stream",
          "text": [
            "Requirement already satisfied: seaborn in c:\\users\\rizky\\appdata\\local\\programs\\python\\python312\\lib\\site-packages (0.13.2)\n",
            "Requirement already satisfied: numpy!=1.24.0,>=1.20 in c:\\users\\rizky\\appdata\\local\\programs\\python\\python312\\lib\\site-packages (from seaborn) (1.26.4)\n",
            "Requirement already satisfied: pandas>=1.2 in c:\\users\\rizky\\appdata\\local\\programs\\python\\python312\\lib\\site-packages (from seaborn) (2.3.3)\n",
            "Requirement already satisfied: matplotlib!=3.6.1,>=3.4 in c:\\users\\rizky\\appdata\\local\\programs\\python\\python312\\lib\\site-packages (from seaborn) (3.10.6)\n",
            "Requirement already satisfied: contourpy>=1.0.1 in c:\\users\\rizky\\appdata\\local\\programs\\python\\python312\\lib\\site-packages (from matplotlib!=3.6.1,>=3.4->seaborn) (1.3.3)\n",
            "Requirement already satisfied: cycler>=0.10 in c:\\users\\rizky\\appdata\\local\\programs\\python\\python312\\lib\\site-packages (from matplotlib!=3.6.1,>=3.4->seaborn) (0.12.1)\n",
            "Requirement already satisfied: fonttools>=4.22.0 in c:\\users\\rizky\\appdata\\local\\programs\\python\\python312\\lib\\site-packages (from matplotlib!=3.6.1,>=3.4->seaborn) (4.60.1)\n",
            "Requirement already satisfied: kiwisolver>=1.3.1 in c:\\users\\rizky\\appdata\\local\\programs\\python\\python312\\lib\\site-packages (from matplotlib!=3.6.1,>=3.4->seaborn) (1.4.9)\n",
            "Requirement already satisfied: packaging>=20.0 in c:\\users\\rizky\\appdata\\roaming\\python\\python312\\site-packages (from matplotlib!=3.6.1,>=3.4->seaborn) (25.0)\n",
            "Requirement already satisfied: pillow>=8 in c:\\users\\rizky\\appdata\\local\\programs\\python\\python312\\lib\\site-packages (from matplotlib!=3.6.1,>=3.4->seaborn) (11.3.0)\n",
            "Requirement already satisfied: pyparsing>=2.3.1 in c:\\users\\rizky\\appdata\\local\\programs\\python\\python312\\lib\\site-packages (from matplotlib!=3.6.1,>=3.4->seaborn) (3.2.5)\n",
            "Requirement already satisfied: python-dateutil>=2.7 in c:\\users\\rizky\\appdata\\roaming\\python\\python312\\site-packages (from matplotlib!=3.6.1,>=3.4->seaborn) (2.9.0.post0)\n",
            "Requirement already satisfied: pytz>=2020.1 in c:\\users\\rizky\\appdata\\local\\programs\\python\\python312\\lib\\site-packages (from pandas>=1.2->seaborn) (2025.2)\n",
            "Requirement already satisfied: tzdata>=2022.7 in c:\\users\\rizky\\appdata\\local\\programs\\python\\python312\\lib\\site-packages (from pandas>=1.2->seaborn) (2025.2)\n",
            "Requirement already satisfied: six>=1.5 in c:\\users\\rizky\\appdata\\roaming\\python\\python312\\site-packages (from python-dateutil>=2.7->matplotlib!=3.6.1,>=3.4->seaborn) (1.17.0)\n"
          ]
        },
        {
          "name": "stderr",
          "output_type": "stream",
          "text": [
            "\n",
            "[notice] A new release of pip is available: 23.2.1 -> 25.2\n",
            "[notice] To update, run: python.exe -m pip install --upgrade pip\n"
          ]
        }
      ],
      "source": [
        "!pip install seaborn"
      ]
    },
    {
      "cell_type": "code",
      "execution_count": 21,
      "metadata": {
        "id": "GfQpsD2UXOIq"
      },
      "outputs": [],
      "source": [
        "import matplotlib.pyplot as plt\n",
        "import seaborn as sns\n",
        "from sklearn.metrics import confusion_matrix\n",
        "\n",
        "# === Fungsi untuk plot confusion matrix ===\n",
        "def plot_confusion(y_true, y_pred, title):\n",
        "    cm = confusion_matrix(y_true, y_pred, labels=sorted(set(y_true)))\n",
        "    plt.figure(figsize=(8,6))\n",
        "    sns.heatmap(cm, annot=True, fmt=\"d\", cmap=\"Blues\",\n",
        "                xticklabels=sorted(set(y_true)),\n",
        "                yticklabels=sorted(set(y_true)))\n",
        "    plt.title(title)\n",
        "    plt.xlabel(\"Predicted\")\n",
        "    plt.ylabel(\"Actual\")\n",
        "    plt.show()"
      ]
    },
    {
      "cell_type": "code",
      "execution_count": 22,
      "metadata": {
        "colab": {
          "base_uri": "https://localhost:8080/",
          "height": 1000
        },
        "id": "BgYGzyp1LZRG",
        "outputId": "9a5211c1-d382-435e-a1f3-a64a71766e16"
      },
      "outputs": [
        {
          "data": {
            "image/png": "[encoded data removed]",
            "text/plain": [
              "<Figure size 800x600 with 2 Axes>"
            ]
          },
          "metadata": {},
          "output_type": "display_data"
        },
        {
          "data": {
            "image/png": "[encoded data removed]",
            "text/plain": [
              "<Figure size 800x600 with 2 Axes>"
            ]
          },
          "metadata": {},
          "output_type": "display_data"
        }
      ],
      "source": [
        "plot_confusion(y_test, y_pred_tfidf, \"Confusion Matrix - TF-IDF + Naive Bayes\")\n",
        "plot_confusion(y_test, y_pred_w2v, \"Confusion Matrix - Word2Vec + Logistic Regression\")"
      ]
    }
  ],
  "metadata": {
    "colab": {
      "provenance": []
    },
    "kernelspec": {
      "display_name": "Python 3",
      "name": "python3"
    },
    "language_info": {
      "codemirror_mode": {
        "name": "ipython",
        "version": 3
      },
      "file_extension": ".py",
      "mimetype": "text/x-python",
      "name": "python",
      "nbconvert_exporter": "python",
      "pygments_lexer": "ipython3",
      "version": "3.12.0"
    }
  },
  "nbformat": 4,
  "nbformat_minor": 0
}
