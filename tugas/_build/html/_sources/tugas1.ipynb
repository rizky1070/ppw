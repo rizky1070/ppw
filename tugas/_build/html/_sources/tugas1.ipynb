{
 "cells": [
  {
   "cell_type": "markdown",
   "id": "fb6fbe26",
   "metadata": {},
   "source": [
    "# tugas satu"
   ]
  }
 ],
 "metadata": {
  "language_info": {
   "name": "python"
  }
 },
 "nbformat": 4,
 "nbformat_minor": 5
}
