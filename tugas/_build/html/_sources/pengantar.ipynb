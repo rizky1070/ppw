{
 "cells": [
  {
   "cell_type": "markdown",
   "id": "df1482d9",
   "metadata": {},
   "source": [
    "# Pengantar Penambangan Website"
   ]
  }
 ],
 "metadata": {
  "language_info": {
   "name": "python"
  }
 },
 "nbformat": 4,
 "nbformat_minor": 5
}
