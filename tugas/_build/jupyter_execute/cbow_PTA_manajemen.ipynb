{
 "cells": [
  {
   "cell_type": "markdown",
   "id": "c1e5a919",
   "metadata": {},
   "source": [
    "# CBOW PTA Manajemen"
   ]
  },
  {
   "cell_type": "code",
   "execution_count": 1,
   "id": "c044a75e",
   "metadata": {},
   "outputs": [
    {
     "name": "stdout",
     "output_type": "stream",
     "text": [
      "--- TAHAP 1: MEMPERSIAPKAN CORPUS ---\n",
      "Proses persiapan corpus selesai.\n",
      "Berikut adalah contoh 1 abstrak yang sudah diubah menjadi daftar token:\n",
      "['abstrak', 'satiyah', 'pengaruh', 'faktorfaktor', 'latih', 'kembang', 'produktivitas', 'kerja', 'dinas', 'laut', 'ikan', 'bangkal', 'bawah', 'bimbing', 'drahjsanugrahini', 'irawatimm', 'helm', 'buyung', 'auliasstsemmt', 'upaya', 'tingkat', 'produktivitas', 'kerja', 'mudah', 'salah', 'usaha', 'produktivitas', 'tingkat', 'terap', 'program', 'latih', 'kembang', 'sumber', 'daya', 'manusia', 'sdm', 'laksana', 'instansi', 'produktivitas', 'capai', 'tingkat', 'mampu', 'pegawai', 'efektif', 'efisien', 'latih', 'pengembnagan', 'harap', 'pegawai', 'sesuai', 'kebutuhankebutuhan', 'sikap', 'tingkah', 'laku', 'terampil', 'tahu', 'sesuai', 'tuntut', 'ubah', 'latih', 'kembang', 'pegawai', 'dukung', 'cipta', 'suasana', 'kerja', 'kondusif', 'instansi', 'produktivitas', 'kerja', 'tingkat', 'tuju', 'teliti', 'pengaruh', 'faktorfaktor', 'latih', 'kembang', 'produktivitas', 'kerja', 'dinas', 'laut', 'ikan', 'bangkal', 'ukur', 'menganalisa', 'hubung', 'variabel', 'teliti', 'dekat', 'observasional', 'analitik', 'amat', 'langsung', 'responden', 'sebar', 'kuisioner', 'analis', 'teliti', 'teliti', 'populasi', 'responden', 'sampel', 'olah', 'spss', 'versi', 'analis', 'metode', 'statistik', 'metode', 'non', 'probality', 'sampling', 'simple', 'random', 'sampling', 'simpul', 'teliti', 'a', 'faktorfaktor', 'latih', 'kembang', 'beda', 'individu', 'pegawai', 'x', 'hubung', 'analisis', 'jabat', 'x', 'motivasi', 'x', 'partisipasi', 'aktif', 'x', 'seleksi', 'serta', 'x', 'seleksi', 'instruktur', 'x', 'metode', 'latih', 'kembang', 'x', 'pengaruh', 'simultan', 'produktivitas', 'kerja', 'pegawai', 'dinas', 'laut', 'ikan', 'kabupaten', 'bangkal', 'bukti', 'nilai', 'koefisien', 'determinasi', 'ganda', 'r', 'r', 'square', 'fhitung', 'ftabel', 'b', 'faktor', 'hubung', 'analisis', 'jabat', 'pengaruh', 'parsial', 'produktivitas', 'kerja', 'pegawai', 'dinas', 'laut', 'ikan', 'kabupaten', 'bangkal', 'uji', 'hipotesis', 'variabel', 'motivasi', 'x', 'bukti', 'nilai', 'thitung', 'seleksi', 'serta', 'x', 'pengaruh', 'dominan', 'produktivitas', 'kerja', 'pegawai', 'instansi', 'dinas', 'laut', 'ikan', 'bangkal', 'kunci', 'dinas', 'laut', 'ikan', 'faktorfaktor', 'latih', 'kembang', 'produktivitas', 'kerja']\n"
     ]
    }
   ],
   "source": [
    "# --- Import semua library yang dibutuhkan ---\n",
    "import pandas as pd\n",
    "import numpy as np\n",
    "import ast\n",
    "from gensim.models import Word2Vec\n",
    "import logging # Untuk menampilkan log proses training\n",
    "\n",
    "# --- 1. Persiapan Corpus ---\n",
    "print(\"--- TAHAP 1: MEMPERSIAPKAN CORPUS ---\")\n",
    "# Load data dari file CSV hasil preprocessing Anda\n",
    "df = pd.read_csv('hasil_preprocessing_manajemen.csv')\n",
    "\n",
    "# Mengubah kolom 'hasil_preprocessing' dari string menjadi list python sungguhan\n",
    "df['tokens'] = df['hasil_preprocessing'].apply(ast.literal_eval)\n",
    "corpus = df['tokens'].tolist()\n",
    "\n",
    "print(\"Proses persiapan corpus selesai.\")\n",
    "print(\"Berikut adalah contoh 1 abstrak yang sudah diubah menjadi daftar token:\")\n",
    "print(corpus[0])\n",
    "\n"
   ]
  },
  {
   "cell_type": "code",
   "execution_count": 2,
   "id": "2bcb5d0a",
   "metadata": {},
   "outputs": [
    {
     "name": "stderr",
     "output_type": "stream",
     "text": [
      "2025-10-02 12:32:26,668 : INFO : collecting all words and their counts\n"
     ]
    },
    {
     "name": "stderr",
     "output_type": "stream",
     "text": [
      "2025-10-02 12:32:26,669 : INFO : PROGRESS: at sentence #0, processed 0 words, keeping 0 word types\n"
     ]
    },
    {
     "name": "stderr",
     "output_type": "stream",
     "text": [
      "2025-10-02 12:32:26,680 : INFO : collected 6498 word types from a corpus of 148249 raw words and 1026 sentences\n"
     ]
    },
    {
     "name": "stdout",
     "output_type": "stream",
     "text": [
      "--- TAHAP 2: MELATIH MODEL WORD2VEC (CBOW) ---\n",
      "Parameter: Dimensi vektor = 150, Arsitektur = CBOW\n",
      "Gensim akan menampilkan log proses training di bawah ini:\n"
     ]
    },
    {
     "name": "stderr",
     "output_type": "stream",
     "text": [
      "2025-10-02 12:32:26,681 : INFO : Creating a fresh vocabulary\n"
     ]
    },
    {
     "name": "stderr",
     "output_type": "stream",
     "text": [
      "2025-10-02 12:32:26,687 : INFO : Word2Vec lifecycle event {'msg': 'effective_min_count=2 retains 3544 unique words (54.54% of original 6498, drops 2954)', 'datetime': '2025-10-02T12:32:26.687514', 'gensim': '4.3.3', 'python': '3.10.6 (tags/v3.10.6:9c7b4bd, Aug  1 2022, 21:53:49) [MSC v.1932 64 bit (AMD64)]', 'platform': 'Windows-10-10.0.26100-SP0', 'event': 'prepare_vocab'}\n"
     ]
    },
    {
     "name": "stderr",
     "output_type": "stream",
     "text": [
      "2025-10-02 12:32:26,687 : INFO : Word2Vec lifecycle event {'msg': 'effective_min_count=2 leaves 145295 word corpus (98.01% of original 148249, drops 2954)', 'datetime': '2025-10-02T12:32:26.687870', 'gensim': '4.3.3', 'python': '3.10.6 (tags/v3.10.6:9c7b4bd, Aug  1 2022, 21:53:49) [MSC v.1932 64 bit (AMD64)]', 'platform': 'Windows-10-10.0.26100-SP0', 'event': 'prepare_vocab'}\n"
     ]
    },
    {
     "name": "stderr",
     "output_type": "stream",
     "text": [
      "2025-10-02 12:32:26,695 : INFO : deleting the raw counts dictionary of 6498 items\n"
     ]
    },
    {
     "name": "stderr",
     "output_type": "stream",
     "text": [
      "2025-10-02 12:32:26,696 : INFO : sample=0.001 downsamples 67 most-common words\n"
     ]
    },
    {
     "name": "stderr",
     "output_type": "stream",
     "text": [
      "2025-10-02 12:32:26,697 : INFO : Word2Vec lifecycle event {'msg': 'downsampling leaves estimated 108970.73386089882 word corpus (75.0%% of prior 145295)', 'datetime': '2025-10-02T12:32:26.697890', 'gensim': '4.3.3', 'python': '3.10.6 (tags/v3.10.6:9c7b4bd, Aug  1 2022, 21:53:49) [MSC v.1932 64 bit (AMD64)]', 'platform': 'Windows-10-10.0.26100-SP0', 'event': 'prepare_vocab'}\n"
     ]
    },
    {
     "name": "stderr",
     "output_type": "stream",
     "text": [
      "2025-10-02 12:32:26,710 : INFO : estimated required memory for 3544 words and 150 dimensions: 6024800 bytes\n"
     ]
    },
    {
     "name": "stderr",
     "output_type": "stream",
     "text": [
      "2025-10-02 12:32:26,711 : INFO : resetting layer weights\n"
     ]
    },
    {
     "name": "stderr",
     "output_type": "stream",
     "text": [
      "2025-10-02 12:32:26,714 : INFO : Word2Vec lifecycle event {'update': False, 'trim_rule': 'None', 'datetime': '2025-10-02T12:32:26.714906', 'gensim': '4.3.3', 'python': '3.10.6 (tags/v3.10.6:9c7b4bd, Aug  1 2022, 21:53:49) [MSC v.1932 64 bit (AMD64)]', 'platform': 'Windows-10-10.0.26100-SP0', 'event': 'build_vocab'}\n"
     ]
    },
    {
     "name": "stderr",
     "output_type": "stream",
     "text": [
      "2025-10-02 12:32:26,715 : INFO : Word2Vec lifecycle event {'msg': 'training model with 4 workers on 3544 vocabulary and 150 features, using sg=0 hs=0 sample=0.001 negative=5 window=5 shrink_windows=True', 'datetime': '2025-10-02T12:32:26.715350', 'gensim': '4.3.3', 'python': '3.10.6 (tags/v3.10.6:9c7b4bd, Aug  1 2022, 21:53:49) [MSC v.1932 64 bit (AMD64)]', 'platform': 'Windows-10-10.0.26100-SP0', 'event': 'train'}\n"
     ]
    },
    {
     "name": "stderr",
     "output_type": "stream",
     "text": [
      "2025-10-02 12:32:26,758 : INFO : EPOCH 0: training on 148249 raw words (108727 effective words) took 0.0s, 2675534 effective words/s\n"
     ]
    },
    {
     "name": "stderr",
     "output_type": "stream",
     "text": [
      "2025-10-02 12:32:26,799 : INFO : EPOCH 1: training on 148249 raw words (108966 effective words) took 0.0s, 2832081 effective words/s\n"
     ]
    },
    {
     "name": "stderr",
     "output_type": "stream",
     "text": [
      "2025-10-02 12:32:26,838 : INFO : EPOCH 2: training on 148249 raw words (109049 effective words) took 0.0s, 2925385 effective words/s\n"
     ]
    },
    {
     "name": "stderr",
     "output_type": "stream",
     "text": [
      "2025-10-02 12:32:26,882 : INFO : EPOCH 3: training on 148249 raw words (108874 effective words) took 0.0s, 2620376 effective words/s\n"
     ]
    },
    {
     "name": "stderr",
     "output_type": "stream",
     "text": [
      "2025-10-02 12:32:26,925 : INFO : EPOCH 4: training on 148249 raw words (108996 effective words) took 0.0s, 2657752 effective words/s\n"
     ]
    },
    {
     "name": "stderr",
     "output_type": "stream",
     "text": [
      "2025-10-02 12:32:26,925 : INFO : Word2Vec lifecycle event {'msg': 'training on 741245 raw words (544612 effective words) took 0.2s, 2583271 effective words/s', 'datetime': '2025-10-02T12:32:26.925972', 'gensim': '4.3.3', 'python': '3.10.6 (tags/v3.10.6:9c7b4bd, Aug  1 2022, 21:53:49) [MSC v.1932 64 bit (AMD64)]', 'platform': 'Windows-10-10.0.26100-SP0', 'event': 'train'}\n"
     ]
    },
    {
     "name": "stderr",
     "output_type": "stream",
     "text": [
      "2025-10-02 12:32:26,926 : INFO : Word2Vec lifecycle event {'params': 'Word2Vec<vocab=3544, vector_size=150, alpha=0.025>', 'datetime': '2025-10-02T12:32:26.926944', 'gensim': '4.3.3', 'python': '3.10.6 (tags/v3.10.6:9c7b4bd, Aug  1 2022, 21:53:49) [MSC v.1932 64 bit (AMD64)]', 'platform': 'Windows-10-10.0.26100-SP0', 'event': 'created'}\n"
     ]
    },
    {
     "name": "stdout",
     "output_type": "stream",
     "text": [
      "\n",
      "Pelatihan model selesai!\n",
      "\n",
      "--- Melihat Hasil Pelatihan Model ---\n",
      "Model berhasil mempelajari 3544 kata unik.\n",
      "\n",
      "Contoh kata yang paling mirip dengan 'pengaruh':\n",
      "[('biologis', 0.9135837554931641), ('bersamasama', 0.9006313681602478), ('positif', 0.8992183208465576), ('signifikan', 0.8908289074897766), ('kunci', 0.8822717666625977)]\n",
      "\n",
      "Contoh kata yang paling mirip dengan 'kinerja':\n",
      "\n",
      "Kata \"Key 'kinerja' not present in vocabulary\" tidak ditemukan di vocabulary (mungkin karena jarang muncul).\n"
     ]
    }
   ],
   "source": [
    "\n",
    "# --- 2. Melatih Model Word2Vec (dengan Proses Terlihat) ---\n",
    "print(\"--- TAHAP 2: MELATIH MODEL WORD2VEC (CBOW) ---\")\n",
    "\n",
    "# Mengaktifkan logging untuk melihat proses training dari Gensim\n",
    "logging.basicConfig(format='%(asctime)s : %(levelname)s : %(message)s', level=logging.INFO)\n",
    "\n",
    "# Tentukan parameter model. Anda bisa mengubah nilai embedding_dim.\n",
    "embedding_dim = 150 \n",
    "print(f\"Parameter: Dimensi vektor = {embedding_dim}, Arsitektur = CBOW\")\n",
    "print(\"Gensim akan menampilkan log proses training di bawah ini:\")\n",
    "\n",
    "model_cbow = Word2Vec(\n",
    "    sentences=corpus,\n",
    "    vector_size=embedding_dim,\n",
    "    window=5,\n",
    "    min_count=2, # Mengabaikan kata yang muncul kurang dari 2 kali\n",
    "    sg=0,        # sg=0 untuk arsitektur CBOW\n",
    "    workers=4    # Memanfaatkan beberapa core CPU\n",
    ")\n",
    "\n",
    "print(\"\\nPelatihan model selesai!\")\n",
    "print(\"\\n--- Melihat Hasil Pelatihan Model ---\")\n",
    "# Mengetahui ukuran kosakata yang berhasil dipelajari model\n",
    "vocab_size = len(model_cbow.wv.index_to_key)\n",
    "print(f\"Model berhasil mempelajari {vocab_size} kata unik.\")\n",
    "\n",
    "# Melihat kata-kata yang paling mirip secara semantik\n",
    "# Ini membuktikan model sudah belajar konteks dari data abstrak manajemen\n",
    "try:\n",
    "    print(\"\\nContoh kata yang paling mirip dengan 'pengaruh':\")\n",
    "    print(model_cbow.wv.most_similar('pengaruh', topn=5))\n",
    "\n",
    "    print(\"\\nContoh kata yang paling mirip dengan 'kinerja':\")\n",
    "    print(model_cbow.wv.most_similar('kinerja', topn=5))\n",
    "except KeyError as e:\n",
    "    print(f\"\\nKata {e} tidak ditemukan di vocabulary (mungkin karena jarang muncul).\")\n",
    "\n",
    "\n"
   ]
  },
  {
   "cell_type": "code",
   "execution_count": 3,
   "id": "514f99a3",
   "metadata": {},
   "outputs": [
    {
     "name": "stdout",
     "output_type": "stream",
     "text": [
      "--- TAHAP 3: MEMBEDAH PROSES AGREGRASI MENJADI VEKTOR DOKUMEN ---\n",
      "Kita akan menganalisis abstrak pertama:\n",
      "Isi abstrak (token): ['abstrak', 'satiyah', 'pengaruh', 'faktorfaktor', 'latih', 'kembang', 'produktivitas', 'kerja', 'dinas', 'laut', 'ikan', 'bangkal', 'bawah', 'bimbing', 'drahjsanugrahini', 'irawatimm', 'helm', 'buyung', 'auliasstsemmt', 'upaya']...\n",
      "\n",
      "Vektor untuk 3 kata pertama dalam abstrak:\n",
      "  - Vektor kata 'abstrak': [ 0.28346032  0.14418076  0.01094252  0.28875625 -0.3687762 ]...\n",
      "  - Kata 'satiyah' tidak ada di vocabulary model.\n",
      "  - Vektor kata 'pengaruh': [ 0.17975879  0.29121238  0.49581945  0.348861   -0.63209724]...\n",
      "\n",
      "Hasil vektor dokumen (setelah dirata-ratakan):\n",
      "[ 0.06769532 -0.04432754  0.05343329 -0.08656652 -0.387236   -0.26817152\n",
      "  0.05859835  0.17314105 -0.31718475 -0.01902748]...\n",
      "Panjang vektor: 150 dimensi.\n"
     ]
    }
   ],
   "source": [
    "\n",
    "# --- 3. Membedah Proses Agregasi Vektor Dokumen ---\n",
    "print(\"--- TAHAP 3: MEMBEDAH PROSES AGREGRASI MENJADI VEKTOR DOKUMEN ---\")\n",
    "\n",
    "def create_document_vector(doc, model, num_features):\n",
    "    word_vectors = [model.wv[word] for word in doc if word in model.wv]\n",
    "    if not word_vectors:\n",
    "        return np.zeros(num_features)\n",
    "    return np.mean(word_vectors, axis=0)\n",
    "\n",
    "# Mari kita ambil satu abstrak sebagai contoh\n",
    "contoh_abstrak = corpus[0]\n",
    "print(\"Kita akan menganalisis abstrak pertama:\")\n",
    "print(f\"Isi abstrak (token): {contoh_abstrak[:20]}...\") # Tampilkan 20 token pertama\n",
    "\n",
    "# Melihat vektor dari beberapa kata pertama di abstrak tersebut\n",
    "print(\"\\nVektor untuk 3 kata pertama dalam abstrak:\")\n",
    "for word in contoh_abstrak[:3]:\n",
    "    if word in model_cbow.wv:\n",
    "        print(f\"  - Vektor kata '{word}': {model_cbow.wv[word][:5]}...\")\n",
    "    else:\n",
    "        print(f\"  - Kata '{word}' tidak ada di vocabulary model.\")\n",
    "\n",
    "# Menghitung dan menampilkan vektor akhir untuk abstrak tersebut\n",
    "vektor_abstrak_contoh = create_document_vector(contoh_abstrak, model_cbow, embedding_dim)\n",
    "print(\"\\nHasil vektor dokumen (setelah dirata-ratakan):\")\n",
    "print(f\"{vektor_abstrak_contoh[:10]}...\")\n",
    "print(f\"Panjang vektor: {len(vektor_abstrak_contoh)} dimensi.\")\n",
    "\n",
    "\n",
    "\n"
   ]
  },
  {
   "cell_type": "code",
   "execution_count": 4,
   "id": "40cbcb96",
   "metadata": {},
   "outputs": [
    {
     "name": "stdout",
     "output_type": "stream",
     "text": [
      "--- TAHAP 4: MEMBUAT DATAFRAME AKHIR ---\n"
     ]
    },
    {
     "name": "stdout",
     "output_type": "stream",
     "text": [
      "Proses pembuatan DataFrame selesai.\n",
      "Berikut adalah contoh hasil akhirnya:\n",
      "      dim_1     dim_2     dim_3     dim_4     dim_5     dim_6     dim_7  \\\n",
      "0  0.067695 -0.044328  0.053433 -0.086567 -0.387236 -0.268172  0.058598   \n",
      "1  0.046463  0.280637 -0.216232 -0.408439 -0.261198 -0.422715  0.035751   \n",
      "2  0.101805  0.149945 -0.206114 -0.186550 -0.284738 -0.276972  0.105108   \n",
      "3 -0.072720  0.200679  0.167987 -0.118620 -0.532630 -0.225890 -0.088351   \n",
      "4 -0.006283  0.188430 -0.031824 -0.133664 -0.423225 -0.256021 -0.024247   \n",
      "\n",
      "      dim_8     dim_9    dim_10  ...   dim_142   dim_143   dim_144   dim_145  \\\n",
      "0  0.173141 -0.317185 -0.019027  ... -0.142729  0.201854  0.094275  0.349103   \n",
      "1  0.325217 -0.300431 -0.158340  ... -0.160526  0.000128  0.497575  0.249696   \n",
      "2  0.335723 -0.243319 -0.094611  ... -0.204213  0.065734  0.297464  0.258103   \n",
      "3  0.078224 -0.403185 -0.214294  ... -0.123566  0.141172  0.088686  0.367903   \n",
      "4  0.278390 -0.322442 -0.093611  ... -0.163226  0.029379  0.255050  0.331947   \n",
      "\n",
      "    dim_146   dim_147   dim_148   dim_149   dim_150  \\\n",
      "0  0.023533 -0.370044 -0.224567  0.722067 -0.281667   \n",
      "1  0.111877 -0.260846 -0.244413  0.511308 -0.242502   \n",
      "2  0.059335 -0.167464 -0.119483  0.407173 -0.228469   \n",
      "3  0.168165 -0.293299 -0.533688  0.848111 -0.513757   \n",
      "4  0.046486 -0.273885 -0.278823  0.661443 -0.473432   \n",
      "\n",
      "                                          abstrak_id  \n",
      "0  ABSTRAK\\r\\nSatiyah, Pengaruh Faktor-faktor Pel...  \n",
      "1  Tujuan penelitian ini adalah untuk mengetahui ...  \n",
      "2  Aplikasi nyata pemanfaatan teknologi informasi...  \n",
      "3  Abstrak\\r\\nPenelitian ini menggunakan metode k...  \n",
      "4  Abstrak\\r\\n\\r\\nAththaariq, Pengaruh Kompetensi...  \n",
      "\n",
      "[5 rows x 151 columns]\n"
     ]
    },
    {
     "name": "stdout",
     "output_type": "stream",
     "text": [
      "\n",
      "🎉 Hasil CBOW berhasil disimpan ke file: hasil_cbow_pta_manajemen.csv\n"
     ]
    }
   ],
   "source": [
    "# --- 4. Membuat DataFrame Akhir ---\n",
    "print(\"--- TAHAP 4: MEMBUAT DATAFRAME AKHIR ---\")\n",
    "doc_vectors = [create_document_vector(doc, model_cbow, embedding_dim) for doc in corpus]\n",
    "cbow_df = pd.DataFrame(doc_vectors, columns=[f'dim_{i+1}' for i in range(embedding_dim)])\n",
    "# Menambahkan kembali kolom abstrak_id agar sesuai dengan file TF-IDF\n",
    "cbow_df['abstrak_id'] = df['abstrak_id'].values \n",
    "\n",
    "print(\"Proses pembuatan DataFrame selesai.\")\n",
    "print(\"Berikut adalah contoh hasil akhirnya:\")\n",
    "print(cbow_df.head())\n",
    "\n",
    "# Menyimpan hasil ke file CSV\n",
    "output_file_cbow = \"hasil_cbow_pta_manajemen.csv\"\n",
    "cbow_df.to_csv(output_file_cbow, index=False)\n",
    "print(f\"\\n🎉 Hasil CBOW berhasil disimpan ke file: {output_file_cbow}\")"
   ]
  }
 ],
 "metadata": {
  "kernelspec": {
   "display_name": "Python 3",
   "language": "python",
   "name": "python3"
  },
  "language_info": {
   "codemirror_mode": {
    "name": "ipython",
    "version": 3
   },
   "file_extension": ".py",
   "mimetype": "text/x-python",
   "name": "python",
   "nbconvert_exporter": "python",
   "pygments_lexer": "ipython3",
   "version": "3.10.6"
  }
 },
 "nbformat": 4,
 "nbformat_minor": 5
}