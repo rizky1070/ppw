{
 "cells": [
  {
   "cell_type": "markdown",
   "id": "fb6fbe26",
   "metadata": {},
   "source": [
    "# tugas satu"
   ]
  }
 ],
 "metadata": {
  "language_info": {
   "codemirror_mode": {
    "name": "ipython",
    "version": 3
   },
   "file_extension": ".py",
   "mimetype": "text/x-python",
   "name": "python",
   "nbconvert_exporter": "python",
   "pygments_lexer": "ipython3",
   "version": "3.10.6"
  }
 },
 "nbformat": 4,
 "nbformat_minor": 5
}