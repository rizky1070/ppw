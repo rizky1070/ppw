{
 "cells": [
  {
   "cell_type": "markdown",
   "id": "c1e5a919",
   "metadata": {},
   "source": [
    "# CBOW PTA Manajemen"
   ]
  },
  {
   "cell_type": "code",
   "execution_count": 1,
   "id": "c044a75e",
   "metadata": {},
   "outputs": [
    {
     "name": "stdout",
     "output_type": "stream",
     "text": [
      "--- TAHAP 1: MEMPERSIAPKAN CORPUS ---\n",
      "Proses persiapan corpus selesai.\n",
      "Berikut adalah contoh 1 abstrak yang sudah diubah menjadi daftar token:\n",
      "['satiyah', 'pengaruh', 'faktorfaktor', 'latih', 'kembang', 'produktivitas', 'kerja', 'dinas', 'laut', 'ikan', 'bangkal', 'bawah', 'bimbing', 'drahjsanugrahini', 'irawatimm', 'helm', 'buyung', 'auliasstsemmt', 'upaya', 'tingkat', 'produktivitas', 'kerja', 'mudah', 'salah', 'usaha', 'produktivitas', 'tingkat', 'terap', 'program', 'latih', 'kembang', 'sumber', 'daya', 'manusia', 'sdm', 'laksana', 'instansi', 'produktivitas', 'capai', 'tingkat', 'mampu', 'pegawai', 'efektif', 'efisien', 'latih', 'pengembnagan', 'harap', 'pegawai', 'sesuai', 'kebutuhankebutuhan', 'sikap', 'tingkah', 'laku', 'terampil', 'tahu', 'sesuai', 'tuntut', 'ubah', 'latih', 'kembang', 'pegawai', 'dukung', 'cipta', 'suasana', 'kerja', 'kondusif', 'instansi', 'produktivitas', 'kerja', 'tingkat', 'tuju', 'teliti', 'pengaruh', 'faktorfaktor', 'latih', 'kembang', 'produktivitas', 'kerja', 'dinas', 'laut', 'ikan', 'bangkal', 'ukur', 'menganalisa', 'hubung', 'variabel', 'teliti', 'dekat', 'observasional', 'analitik', 'amat', 'langsung', 'responden', 'sebar', 'kuisioner', 'analis', 'teliti', 'teliti', 'populasi', 'responden', 'sampel', 'olah', 'spss', 'versi', 'analis', 'metode', 'statistik', 'metode', 'non', 'probality', 'sampling', 'simple', 'random', 'sampling', 'simpul', 'teliti', 'a', 'faktorfaktor', 'latih', 'kembang', 'beda', 'individu', 'pegawai', 'x', 'hubung', 'analisis', 'jabat', 'x', 'motivasi', 'x', 'partisipasi', 'aktif', 'x', 'seleksi', 'serta', 'x', 'seleksi', 'instruktur', 'x', 'metode', 'latih', 'kembang', 'x', 'pengaruh', 'simultan', 'produktivitas', 'kerja', 'pegawai', 'dinas', 'laut', 'ikan', 'kabupaten', 'bangkal', 'bukti', 'nilai', 'koefisien', 'determinasi', 'ganda', 'r', 'r', 'square', 'fhitung', 'ftabel', 'b', 'faktor', 'hubung', 'analisis', 'jabat', 'pengaruh', 'parsial', 'produktivitas', 'kerja', 'pegawai', 'dinas', 'laut', 'ikan', 'kabupaten', 'bangkal', 'uji', 'hipotesis', 'variabel', 'motivasi', 'x', 'bukti', 'nilai', 'thitung', 'seleksi', 'serta', 'x', 'pengaruh', 'dominan', 'produktivitas', 'kerja', 'pegawai', 'instansi', 'dinas', 'laut', 'ikan', 'bangkal', 'kunci', 'dinas', 'laut', 'ikan', 'faktorfaktor', 'latih', 'kembang', 'produktivitas', 'kerja']\n"
     ]
    }
   ],
   "source": [
    "# --- Import semua library yang dibutuhkan ---\n",
    "import pandas as pd\n",
    "import numpy as np\n",
    "import ast\n",
    "from gensim.models import Word2Vec\n",
    "import logging # Untuk menampilkan log proses training\n",
    "\n",
    "# --- 1. Persiapan Corpus ---\n",
    "print(\"--- TAHAP 1: MEMPERSIAPKAN CORPUS ---\")\n",
    "# Load data dari file CSV hasil preprocessing Anda\n",
    "df = pd.read_csv('hasil_preprocessing_manajemen.csv')\n",
    "\n",
    "# Mengubah kolom 'hasil_preprocessing' dari string menjadi list python sungguhan\n",
    "df['tokens'] = df['hasil_preprocessing'].apply(ast.literal_eval)\n",
    "corpus = df['tokens'].tolist()\n",
    "\n",
    "print(\"Proses persiapan corpus selesai.\")\n",
    "print(\"Berikut adalah contoh 1 abstrak yang sudah diubah menjadi daftar token:\")\n",
    "print(corpus[0])\n",
    "\n"
   ]
  },
  {
   "cell_type": "code",
   "execution_count": 2,
   "id": "2bcb5d0a",
   "metadata": {},
   "outputs": [
    {
     "name": "stderr",
     "output_type": "stream",
     "text": [
      "2025-10-16 18:00:55,911 : INFO : collecting all words and their counts\n"
     ]
    },
    {
     "name": "stderr",
     "output_type": "stream",
     "text": [
      "2025-10-16 18:00:55,912 : INFO : PROGRESS: at sentence #0, processed 0 words, keeping 0 word types\n"
     ]
    },
    {
     "name": "stderr",
     "output_type": "stream",
     "text": [
      "2025-10-16 18:00:55,927 : INFO : collected 6497 word types from a corpus of 147875 raw words and 1026 sentences\n"
     ]
    },
    {
     "name": "stderr",
     "output_type": "stream",
     "text": [
      "2025-10-16 18:00:55,928 : INFO : Creating a fresh vocabulary\n"
     ]
    },
    {
     "name": "stderr",
     "output_type": "stream",
     "text": [
      "2025-10-16 18:00:55,936 : INFO : Word2Vec lifecycle event {'msg': 'effective_min_count=2 retains 3543 unique words (54.53% of original 6497, drops 2954)', 'datetime': '2025-10-16T18:00:55.936781', 'gensim': '4.3.3', 'python': '3.10.6 (tags/v3.10.6:9c7b4bd, Aug  1 2022, 21:53:49) [MSC v.1932 64 bit (AMD64)]', 'platform': 'Windows-10-10.0.26100-SP0', 'event': 'prepare_vocab'}\n"
     ]
    },
    {
     "name": "stderr",
     "output_type": "stream",
     "text": [
      "2025-10-16 18:00:55,937 : INFO : Word2Vec lifecycle event {'msg': 'effective_min_count=2 leaves 144921 word corpus (98.00% of original 147875, drops 2954)', 'datetime': '2025-10-16T18:00:55.937763', 'gensim': '4.3.3', 'python': '3.10.6 (tags/v3.10.6:9c7b4bd, Aug  1 2022, 21:53:49) [MSC v.1932 64 bit (AMD64)]', 'platform': 'Windows-10-10.0.26100-SP0', 'event': 'prepare_vocab'}\n"
     ]
    },
    {
     "name": "stderr",
     "output_type": "stream",
     "text": [
      "2025-10-16 18:00:55,949 : INFO : deleting the raw counts dictionary of 6497 items\n"
     ]
    },
    {
     "name": "stderr",
     "output_type": "stream",
     "text": [
      "2025-10-16 18:00:55,951 : INFO : sample=0.001 downsamples 67 most-common words\n"
     ]
    },
    {
     "name": "stderr",
     "output_type": "stream",
     "text": [
      "2025-10-16 18:00:55,953 : INFO : Word2Vec lifecycle event {'msg': 'downsampling leaves estimated 108540.54174002048 word corpus (74.9%% of prior 144921)', 'datetime': '2025-10-16T18:00:55.953210', 'gensim': '4.3.3', 'python': '3.10.6 (tags/v3.10.6:9c7b4bd, Aug  1 2022, 21:53:49) [MSC v.1932 64 bit (AMD64)]', 'platform': 'Windows-10-10.0.26100-SP0', 'event': 'prepare_vocab'}\n"
     ]
    },
    {
     "name": "stderr",
     "output_type": "stream",
     "text": [
      "2025-10-16 18:00:55,973 : INFO : estimated required memory for 3543 words and 150 dimensions: 6023100 bytes\n"
     ]
    },
    {
     "name": "stderr",
     "output_type": "stream",
     "text": [
      "2025-10-16 18:00:55,974 : INFO : resetting layer weights\n"
     ]
    },
    {
     "name": "stderr",
     "output_type": "stream",
     "text": [
      "2025-10-16 18:00:55,977 : INFO : Word2Vec lifecycle event {'update': False, 'trim_rule': 'None', 'datetime': '2025-10-16T18:00:55.977528', 'gensim': '4.3.3', 'python': '3.10.6 (tags/v3.10.6:9c7b4bd, Aug  1 2022, 21:53:49) [MSC v.1932 64 bit (AMD64)]', 'platform': 'Windows-10-10.0.26100-SP0', 'event': 'build_vocab'}\n"
     ]
    },
    {
     "name": "stderr",
     "output_type": "stream",
     "text": [
      "2025-10-16 18:00:55,978 : INFO : Word2Vec lifecycle event {'msg': 'training model with 4 workers on 3543 vocabulary and 150 features, using sg=0 hs=0 sample=0.001 negative=5 window=5 shrink_windows=True', 'datetime': '2025-10-16T18:00:55.978529', 'gensim': '4.3.3', 'python': '3.10.6 (tags/v3.10.6:9c7b4bd, Aug  1 2022, 21:53:49) [MSC v.1932 64 bit (AMD64)]', 'platform': 'Windows-10-10.0.26100-SP0', 'event': 'train'}\n"
     ]
    },
    {
     "name": "stderr",
     "output_type": "stream",
     "text": [
      "2025-10-16 18:00:56,050 : INFO : EPOCH 0: training on 147875 raw words (108443 effective words) took 0.1s, 1583808 effective words/s\n"
     ]
    },
    {
     "name": "stdout",
     "output_type": "stream",
     "text": [
      "--- TAHAP 2: MELATIH MODEL WORD2VEC (CBOW) ---\n",
      "Parameter: Dimensi vektor = 150, Arsitektur = CBOW\n",
      "Gensim akan menampilkan log proses training di bawah ini:\n"
     ]
    },
    {
     "name": "stderr",
     "output_type": "stream",
     "text": [
      "2025-10-16 18:00:56,122 : INFO : EPOCH 1: training on 147875 raw words (108434 effective words) took 0.1s, 1592627 effective words/s\n"
     ]
    },
    {
     "name": "stderr",
     "output_type": "stream",
     "text": [
      "2025-10-16 18:00:56,200 : INFO : EPOCH 2: training on 147875 raw words (108606 effective words) took 0.1s, 1476751 effective words/s\n"
     ]
    },
    {
     "name": "stderr",
     "output_type": "stream",
     "text": [
      "2025-10-16 18:00:56,295 : INFO : EPOCH 3: training on 147875 raw words (108735 effective words) took 0.1s, 1201017 effective words/s\n"
     ]
    },
    {
     "name": "stderr",
     "output_type": "stream",
     "text": [
      "2025-10-16 18:00:56,380 : INFO : EPOCH 4: training on 147875 raw words (108355 effective words) took 0.1s, 1347366 effective words/s\n"
     ]
    },
    {
     "name": "stderr",
     "output_type": "stream",
     "text": [
      "2025-10-16 18:00:56,382 : INFO : Word2Vec lifecycle event {'msg': 'training on 739375 raw words (542573 effective words) took 0.4s, 1345559 effective words/s', 'datetime': '2025-10-16T18:00:56.382534', 'gensim': '4.3.3', 'python': '3.10.6 (tags/v3.10.6:9c7b4bd, Aug  1 2022, 21:53:49) [MSC v.1932 64 bit (AMD64)]', 'platform': 'Windows-10-10.0.26100-SP0', 'event': 'train'}\n"
     ]
    },
    {
     "name": "stderr",
     "output_type": "stream",
     "text": [
      "2025-10-16 18:00:56,383 : INFO : Word2Vec lifecycle event {'params': 'Word2Vec<vocab=3543, vector_size=150, alpha=0.025>', 'datetime': '2025-10-16T18:00:56.383532', 'gensim': '4.3.3', 'python': '3.10.6 (tags/v3.10.6:9c7b4bd, Aug  1 2022, 21:53:49) [MSC v.1932 64 bit (AMD64)]', 'platform': 'Windows-10-10.0.26100-SP0', 'event': 'created'}\n"
     ]
    },
    {
     "name": "stdout",
     "output_type": "stream",
     "text": [
      "\n",
      "Pelatihan model selesai!\n",
      "\n",
      "--- Melihat Hasil Pelatihan Model ---\n",
      "Model berhasil mempelajari 3543 kata unik.\n",
      "\n",
      "Contoh kata yang paling mirip dengan 'pengaruh':\n",
      "[('signifikan', 0.9206194281578064), ('positif', 0.9109193682670593), ('bersamasama', 0.9065108299255371), ('kunci', 0.905526340007782), ('sosail', 0.8945865035057068)]\n",
      "\n",
      "Contoh kata yang paling mirip dengan 'kinerja':\n",
      "\n",
      "Kata \"Key 'kinerja' not present in vocabulary\" tidak ditemukan di vocabulary (mungkin karena jarang muncul).\n"
     ]
    }
   ],
   "source": [
    "\n",
    "# --- 2. Melatih Model Word2Vec (dengan Proses Terlihat) ---\n",
    "print(\"--- TAHAP 2: MELATIH MODEL WORD2VEC (CBOW) ---\")\n",
    "\n",
    "# Mengaktifkan logging untuk melihat proses training dari Gensim\n",
    "logging.basicConfig(format='%(asctime)s : %(levelname)s : %(message)s', level=logging.INFO)\n",
    "\n",
    "# Tentukan parameter model. Anda bisa mengubah nilai embedding_dim.\n",
    "embedding_dim = 150 \n",
    "print(f\"Parameter: Dimensi vektor = {embedding_dim}, Arsitektur = CBOW\")\n",
    "print(\"Gensim akan menampilkan log proses training di bawah ini:\")\n",
    "\n",
    "model_cbow = Word2Vec(\n",
    "    sentences=corpus,\n",
    "    vector_size=embedding_dim,\n",
    "    window=5,\n",
    "    min_count=2, # Mengabaikan kata yang muncul kurang dari 2 kali\n",
    "    sg=0,        # sg=0 untuk arsitektur CBOW\n",
    "    workers=4    # Memanfaatkan beberapa core CPU\n",
    ")\n",
    "\n",
    "print(\"\\nPelatihan model selesai!\")\n",
    "print(\"\\n--- Melihat Hasil Pelatihan Model ---\")\n",
    "# Mengetahui ukuran kosakata yang berhasil dipelajari model\n",
    "vocab_size = len(model_cbow.wv.index_to_key)\n",
    "print(f\"Model berhasil mempelajari {vocab_size} kata unik.\")\n",
    "\n",
    "# Melihat kata-kata yang paling mirip secara semantik\n",
    "# Ini membuktikan model sudah belajar konteks dari data abstrak manajemen\n",
    "try:\n",
    "    print(\"\\nContoh kata yang paling mirip dengan 'pengaruh':\")\n",
    "    print(model_cbow.wv.most_similar('pengaruh', topn=5))\n",
    "\n",
    "    print(\"\\nContoh kata yang paling mirip dengan 'kinerja':\")\n",
    "    print(model_cbow.wv.most_similar('kinerja', topn=5))\n",
    "except KeyError as e:\n",
    "    print(f\"\\nKata {e} tidak ditemukan di vocabulary (mungkin karena jarang muncul).\")\n",
    "\n",
    "\n"
   ]
  },
  {
   "cell_type": "code",
   "execution_count": 3,
   "id": "514f99a3",
   "metadata": {},
   "outputs": [
    {
     "name": "stdout",
     "output_type": "stream",
     "text": [
      "--- TAHAP 3: MEMBEDAH PROSES AGREGRASI MENJADI VEKTOR DOKUMEN ---\n",
      "Kita akan menganalisis abstrak pertama:\n",
      "Isi abstrak (token): ['satiyah', 'pengaruh', 'faktorfaktor', 'latih', 'kembang', 'produktivitas', 'kerja', 'dinas', 'laut', 'ikan', 'bangkal', 'bawah', 'bimbing', 'drahjsanugrahini', 'irawatimm', 'helm', 'buyung', 'auliasstsemmt', 'upaya', 'tingkat']...\n",
      "\n",
      "Vektor untuk 3 kata pertama dalam abstrak:\n",
      "  - Kata 'satiyah' tidak ada di vocabulary model.\n",
      "  - Vektor kata 'pengaruh': [ 0.00411498  0.48219272  0.28520432  0.25774074 -0.6023739 ]...\n",
      "  - Vektor kata 'faktorfaktor': [ 0.10369303 -0.0611287   0.07334744  0.06287182  0.00249509]...\n",
      "\n",
      "Hasil vektor dokumen (setelah dirata-ratakan):\n",
      "[ 0.02976688 -0.1490235   0.12326419  0.02815833 -0.05149008 -0.59641385\n",
      " -0.03856465  0.22401094 -0.31759766  0.25485924]...\n",
      "Panjang vektor: 150 dimensi.\n"
     ]
    }
   ],
   "source": [
    "\n",
    "# --- 3. Membedah Proses Agregasi Vektor Dokumen ---\n",
    "print(\"--- TAHAP 3: MEMBEDAH PROSES AGREGRASI MENJADI VEKTOR DOKUMEN ---\")\n",
    "\n",
    "def create_document_vector(doc, model, num_features):\n",
    "    word_vectors = [model.wv[word] for word in doc if word in model.wv]\n",
    "    if not word_vectors:\n",
    "        return np.zeros(num_features)\n",
    "    return np.mean(word_vectors, axis=0)\n",
    "\n",
    "# Mari kita ambil satu abstrak sebagai contoh\n",
    "contoh_abstrak = corpus[0]\n",
    "print(\"Kita akan menganalisis abstrak pertama:\")\n",
    "print(f\"Isi abstrak (token): {contoh_abstrak[:20]}...\") # Tampilkan 20 token pertama\n",
    "\n",
    "# Melihat vektor dari beberapa kata pertama di abstrak tersebut\n",
    "print(\"\\nVektor untuk 3 kata pertama dalam abstrak:\")\n",
    "for word in contoh_abstrak[:3]:\n",
    "    if word in model_cbow.wv:\n",
    "        print(f\"  - Vektor kata '{word}': {model_cbow.wv[word][:5]}...\")\n",
    "    else:\n",
    "        print(f\"  - Kata '{word}' tidak ada di vocabulary model.\")\n",
    "\n",
    "# Menghitung dan menampilkan vektor akhir untuk abstrak tersebut\n",
    "vektor_abstrak_contoh = create_document_vector(contoh_abstrak, model_cbow, embedding_dim)\n",
    "print(\"\\nHasil vektor dokumen (setelah dirata-ratakan):\")\n",
    "print(f\"{vektor_abstrak_contoh[:10]}...\")\n",
    "print(f\"Panjang vektor: {len(vektor_abstrak_contoh)} dimensi.\")\n",
    "\n",
    "\n",
    "\n"
   ]
  },
  {
   "cell_type": "code",
   "execution_count": 4,
   "id": "40cbcb96",
   "metadata": {},
   "outputs": [
    {
     "name": "stdout",
     "output_type": "stream",
     "text": [
      "--- TAHAP 4: MEMBUAT DATAFRAME AKHIR ---\n"
     ]
    },
    {
     "name": "stdout",
     "output_type": "stream",
     "text": [
      "Proses pembuatan DataFrame selesai.\n",
      "Berikut adalah contoh hasil akhirnya:\n",
      "      dim_1     dim_2     dim_3     dim_4     dim_5     dim_6     dim_7  \\\n",
      "0  0.029767 -0.149024  0.123264  0.028158 -0.051490 -0.596414 -0.038565   \n",
      "1  0.114121 -0.041545 -0.332609 -0.166108  0.028867 -0.382145 -0.225823   \n",
      "2  0.154435 -0.111680 -0.148668 -0.022888 -0.050461 -0.328616 -0.051066   \n",
      "3 -0.110514  0.081841  0.111027  0.090035 -0.241682 -0.824919 -0.309227   \n",
      "4  0.017672 -0.060398 -0.024928  0.064270 -0.126525 -0.550035 -0.241596   \n",
      "\n",
      "      dim_8     dim_9    dim_10  ...   dim_142   dim_143   dim_144   dim_145  \\\n",
      "0  0.224011 -0.317598  0.254859  ... -0.053651 -0.062411  0.211679  0.289751   \n",
      "1  0.546007 -0.272927  0.162919  ... -0.211809 -0.138433  0.577712  0.190756   \n",
      "2  0.418891 -0.143419  0.292733  ... -0.144434 -0.082662  0.276527  0.153719   \n",
      "3  0.156495 -0.695419  0.104856  ... -0.038734 -0.236723  0.152346  0.290726   \n",
      "4  0.366358 -0.400305  0.278356  ... -0.117892 -0.228421  0.271423  0.212971   \n",
      "\n",
      "    dim_146   dim_147   dim_148   dim_149   dim_150  \\\n",
      "0 -0.069721 -0.306180 -0.135761  0.512855 -0.011502   \n",
      "1 -0.113510 -0.258571 -0.175911  0.281739 -0.245058   \n",
      "2 -0.084375 -0.186704 -0.150180  0.350025 -0.231371   \n",
      "3 -0.097940 -0.415734 -0.214070  0.544474  0.065740   \n",
      "4 -0.090652 -0.368152 -0.129555  0.530451 -0.123309   \n",
      "\n",
      "                                          abstrak_id  \n",
      "0  ABSTRAK\\r\\nSatiyah, Pengaruh Faktor-faktor Pel...  \n",
      "1  Tujuan penelitian ini adalah untuk mengetahui ...  \n",
      "2  Aplikasi nyata pemanfaatan teknologi informasi...  \n",
      "3  Abstrak\\r\\nPenelitian ini menggunakan metode k...  \n",
      "4  Abstrak\\r\\n\\r\\nAththaariq, Pengaruh Kompetensi...  \n",
      "\n",
      "[5 rows x 151 columns]\n",
      "\n",
      "🎉 Hasil CBOW berhasil disimpan ke file: hasil_cbow_pta_manajemen.csv\n"
     ]
    }
   ],
   "source": [
    "# --- 4. Membuat DataFrame Akhir ---\n",
    "print(\"--- TAHAP 4: MEMBUAT DATAFRAME AKHIR ---\")\n",
    "doc_vectors = [create_document_vector(doc, model_cbow, embedding_dim) for doc in corpus]\n",
    "cbow_df = pd.DataFrame(doc_vectors, columns=[f'dim_{i+1}' for i in range(embedding_dim)])\n",
    "# Menambahkan kembali kolom abstrak_id agar sesuai dengan file TF-IDF\n",
    "cbow_df['abstrak_id'] = df['abstrak_id'].values \n",
    "\n",
    "print(\"Proses pembuatan DataFrame selesai.\")\n",
    "print(\"Berikut adalah contoh hasil akhirnya:\")\n",
    "print(cbow_df.head())\n",
    "\n",
    "# Menyimpan hasil ke file CSV\n",
    "output_file_cbow = \"hasil_cbow_pta_manajemen.csv\"\n",
    "cbow_df.to_csv(output_file_cbow, index=False)\n",
    "print(f\"\\n🎉 Hasil CBOW berhasil disimpan ke file: {output_file_cbow}\")"
   ]
  }
 ],
 "metadata": {
  "kernelspec": {
   "display_name": "Python 3",
   "language": "python",
   "name": "python3"
  },
  "language_info": {
   "codemirror_mode": {
    "name": "ipython",
    "version": 3
   },
   "file_extension": ".py",
   "mimetype": "text/x-python",
   "name": "python",
   "nbconvert_exporter": "python",
   "pygments_lexer": "ipython3",
   "version": "3.10.6"
  }
 },
 "nbformat": 4,
 "nbformat_minor": 5
}