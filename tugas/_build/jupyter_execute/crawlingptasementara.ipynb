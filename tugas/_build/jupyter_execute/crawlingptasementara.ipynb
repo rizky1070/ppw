{
 "cells": [
  {
   "cell_type": "code",
   "execution_count": 1,
   "id": "4458c7cc",
   "metadata": {},
   "outputs": [],
   "source": [
    "import pandas as pd\n",
    "import requests\n",
    "from bs4 import BeautifulSoup\n",
    "import time\n",
    "import re\n",
    "import concurrent.futures\n",
    "\n",
    "# MAKSIMAL PEKERJA SIMULTAN (BISA DISESUAIKAN)\n",
    "MAX_WORKERS = 10\n",
    "\n",
    "def get_fakultas_prodi_list():\n",
    "    # Fungsi ini tidak berubah\n",
    "    prodi_list = []\n",
    "    try:\n",
    "        url_nav = \"https://pta.trunojoyo.ac.id/c_search/byfac\"\n",
    "        r = requests.get(url_nav, timeout=10)\n",
    "        r.raise_for_status()\n",
    "        soup = BeautifulSoup(r.content, \"html.parser\")\n",
    "        sidebar_nav = soup.select_one('div.box.sidebar_nav')\n",
    "        if not sidebar_nav: return []\n",
    "        fakultas_items = sidebar_nav.select_one('ul').find_all('li', recursive=False)\n",
    "        for item_fakultas in fakultas_items:\n",
    "            anchor_fakultas = item_fakultas.find('a', recursive=False)\n",
    "            if not anchor_fakultas: continue\n",
    "            nama_fakultas = anchor_fakultas.get_text(strip=True)\n",
    "            ul_prodi = item_fakultas.find('ul')\n",
    "            if not ul_prodi: continue\n",
    "            for link_prodi in ul_prodi.select('li a'):\n",
    "                nama_prodi = link_prodi.get_text(strip=True)\n",
    "                href = link_prodi.get('href')\n",
    "                prodi_id = href.strip('/').split('/')[-1]\n",
    "                if prodi_id.isdigit():\n",
    "                    prodi_list.append({\n",
    "                        \"id_prodi\": int(prodi_id),\n",
    "                        \"nama_prodi\": nama_prodi,\n",
    "                        \"nama_fakultas\": nama_fakultas\n",
    "                    })\n",
    "    except requests.exceptions.RequestException as e:\n",
    "        print(f\"Gagal mengambil daftar prodi: {e}\")\n",
    "    return prodi_list\n",
    "\n",
    "def scrape_jurnal_detail(jurnal_url):\n",
    "    # Fungsi ini tidak berubah\n",
    "    try:\n",
    "        response = requests.get(jurnal_url, timeout=15)\n",
    "        response.raise_for_status()\n",
    "        isi = BeautifulSoup(response.content, \"html.parser\").select_one('div#content_journal')\n",
    "        if not isi: return None\n",
    "        judul = isi.select_one('a.title').text.strip()\n",
    "        penulis = isi.select_one('span:contains(\"Penulis\")').text.split(' : ')[1].strip()\n",
    "        pembimbing_pertama = isi.select_one('span:contains(\"Dosen Pembimbing I\")').text.split(' : ')[1].strip()\n",
    "        pembimbing_kedua = isi.select_one('span:contains(\"Dosen Pembimbing II\")').text.split(':')[1].strip()\n",
    "        abstract_paragraphs = isi.select('p[align=\"justify\"]')\n",
    "        text_indo_mentah = abstract_paragraphs[0].text if len(abstract_paragraphs) > 0 else \"\"\n",
    "        abstrak_indonesia = re.sub(r'\\s+', ' ', text_indo_mentah).strip()\n",
    "        text_inggris_mentah = abstract_paragraphs[1].text if len(abstract_paragraphs) > 1 else \"\"\n",
    "        abstrak_inggris = re.sub(r'\\s+', ' ', text_inggris_mentah).strip()\n",
    "        return {\n",
    "            \"penulis\": penulis, \"judul\": judul, \"pembimbing_pertama\": pembimbing_pertama,\n",
    "            \"pembimbing_kedua\": pembimbing_kedua, \"abstrak\": abstrak_indonesia,\n",
    "            \"abstrak_inggris\": abstrak_inggris\n",
    "        }\n",
    "    except requests.exceptions.RequestException:\n",
    "        return None\n",
    "\n",
    "# --- PERUBAHAN UTAMA ADA DI FUNGSI BERIKUT ---\n",
    "def scrape_prodi(prodi):\n",
    "    \"\"\"\n",
    "    FUNGSI MANAJER: Sekarang akan mengembalikan baris data kosong\n",
    "    jika tidak ada jurnal yang ditemukan.\n",
    "    \"\"\"\n",
    "    jurnal_urls = []\n",
    "    page = 1\n",
    "    while len(jurnal_urls) < 5:\n",
    "        try:\n",
    "            url = f\"https://pta.trunojoyo.ac.id/c_search/byprod/{prodi['id_prodi']}/{page}\"\n",
    "            r = requests.get(url, timeout=10)\n",
    "            r.raise_for_status()\n",
    "            soup = BeautifulSoup(r.content, \"html.parser\")\n",
    "            jurnals_on_page = soup.select('li[data-cat=\"#luxury\"] a.gray.button')\n",
    "            if not jurnals_on_page: break\n",
    "            for a_tag in jurnals_on_page:\n",
    "                if len(jurnal_urls) < 5:\n",
    "                    jurnal_urls.append(a_tag['href'])\n",
    "                else: break\n",
    "            page += 1\n",
    "        except requests.exceptions.RequestException:\n",
    "            break\n",
    "\n",
    "    # --- BAGIAN YANG DIMODIFIKASI ---\n",
    "    # Jika setelah mencari, tidak ada URL jurnal yang ditemukan\n",
    "    if not jurnal_urls:\n",
    "        print(f\"✔️ Selesai: {prodi['nama_fakultas']} - {prodi['nama_prodi']} | Ditemukan 0 jurnal.\")\n",
    "        # Buat satu baris data placeholder\n",
    "        empty_row = {\n",
    "            'id_prodi': prodi['id_prodi'],\n",
    "            'nama_prodi': prodi['nama_prodi'],\n",
    "            'nama_fakultas': prodi['nama_fakultas'],\n",
    "            'judul': 'Tidak ada jurnal',\n",
    "            'penulis': None,\n",
    "            'pembimbing_pertama': None,\n",
    "            'pembimbing_kedua': None,\n",
    "            'abstrak': None,\n",
    "            'abstrak_inggris': None\n",
    "        }\n",
    "        return [empty_row] # Kembalikan sebagai list berisi satu dictionary\n",
    "    # --- AKHIR MODIFIKASI ---\n",
    "\n",
    "    # Jika ada URL, proses berjalan seperti biasa\n",
    "    all_jurnal_data = []\n",
    "    with concurrent.futures.ThreadPoolExecutor(max_workers=MAX_WORKERS) as executor:\n",
    "        hasil_scrape = executor.map(scrape_jurnal_detail, jurnal_urls)\n",
    "        for hasil in hasil_scrape:\n",
    "            if hasil:\n",
    "                hasil['id_prodi'] = prodi['id_prodi']\n",
    "                hasil['nama_prodi'] = prodi['nama_prodi']\n",
    "                hasil['nama_fakultas'] = prodi['nama_fakultas']\n",
    "                all_jurnal_data.append(hasil)\n",
    "    \n",
    "    print(f\"✔️ Selesai: {prodi['nama_fakultas']} - {prodi['nama_prodi']} | Berhasil mengambil {len(all_jurnal_data)} jurnal.\")\n",
    "    return all_jurnal_data\n",
    "\n",
    "def main():\n",
    "    # Fungsi ini tidak berubah\n",
    "    start_time = time.time()\n",
    "    daftar_prodi = get_fakultas_prodi_list()\n",
    "    if not daftar_prodi: return pd.DataFrame()\n",
    "\n",
    "    final_results = []\n",
    "    with concurrent.futures.ThreadPoolExecutor(max_workers=MAX_WORKERS) as executor:\n",
    "        results_per_prodi = executor.map(scrape_prodi, daftar_prodi)\n",
    "        for list_jurnal in results_per_prodi:\n",
    "            final_results.extend(list_jurnal)\n",
    "\n",
    "    df = pd.DataFrame(final_results)\n",
    "    if not df.empty:\n",
    "        df = df[['nama_fakultas', 'id_prodi', 'nama_prodi', 'judul', 'penulis', 'pembimbing_pertama', 'pembimbing_kedua', 'abstrak', 'abstrak_inggris']]\n",
    "    \n",
    "    df.to_csv(\"pta_final_concurrent_lengkap.csv\", index=False)\n",
    "    \n",
    "    end_time = time.time()\n",
    "    print(\"\\n✅ Proses scraping selesai.\")\n",
    "    print(f\"Total baris data yang dihasilkan: {len(df)}.\")\n",
    "    print(f\"Total waktu eksekusi: {end_time - start_time:.2f} detik.\")\n",
    "    \n",
    "    return df\n",
    "\n",
    "# if __name__ == \"__main__\":\n",
    "#     df_hasil = main()\n",
    "#     df_hasil"
   ]
  },
  {
   "cell_type": "code",
   "execution_count": 2,
   "id": "162e56d7",
   "metadata": {},
   "outputs": [
    {
     "name": "stderr",
     "output_type": "stream",
     "text": [
      "C:\\laragon\\bin\\python\\python-3.10\\lib\\site-packages\\soupsieve\\css_parser.py:876: FutureWarning: The pseudo class ':contains' is deprecated, ':-soup-contains' should be used moving forward.\n",
      "  warnings.warn(  # noqa: B028\n"
     ]
    },
    {
     "name": "stdout",
     "output_type": "stream",
     "text": [
      "✔️ Selesai: Pertanian - Agribisnis | Berhasil mengambil 5 jurnal.\n"
     ]
    },
    {
     "name": "stdout",
     "output_type": "stream",
     "text": [
      "✔️ Selesai: Pertanian - Manajemen Sumberdaya Perairan | Berhasil mengambil 5 jurnal.\n"
     ]
    },
    {
     "name": "stdout",
     "output_type": "stream",
     "text": [
      "✔️ Selesai: Pertanian - Teknologi Industri Pertanian | Berhasil mengambil 5 jurnal.\n"
     ]
    },
    {
     "name": "stdout",
     "output_type": "stream",
     "text": [
      "✔️ Selesai: Hukum - Ilmu Hukum | Berhasil mengambil 5 jurnal.\n",
      "✔️ Selesai: Pertanian - Agroteknologi | Berhasil mengambil 5 jurnal.\n"
     ]
    },
    {
     "name": "stdout",
     "output_type": "stream",
     "text": [
      "✔️ Selesai: Ekonomi Dan Bisnis - Manajemen | Berhasil mengambil 5 jurnal.\n"
     ]
    },
    {
     "name": "stdout",
     "output_type": "stream",
     "text": [
      "✔️ Selesai: Hukum - Magister Ilmu Hukum | Berhasil mengambil 5 jurnal.\n"
     ]
    },
    {
     "name": "stdout",
     "output_type": "stream",
     "text": [
      "✔️ Selesai: Ekonomi Dan Bisnis - Ekonomi Pembangunan | Berhasil mengambil 5 jurnal.\n",
      "✔️ Selesai: Pertanian - Ilmu Kelautan | Berhasil mengambil 5 jurnal.\n"
     ]
    },
    {
     "name": "stdout",
     "output_type": "stream",
     "text": [
      "✔️ Selesai: Pertanian - Magister Pengelolaan Sumber Daya Alam | Berhasil mengambil 3 jurnal.\n"
     ]
    },
    {
     "name": "stdout",
     "output_type": "stream",
     "text": [
      "✔️ Selesai: Ekonomi Dan Bisnis - Doktor Ilmu Manajemen | Ditemukan 0 jurnal.\n"
     ]
    },
    {
     "name": "stdout",
     "output_type": "stream",
     "text": [
      "✔️ Selesai: Ekonomi Dan Bisnis - Akuntansi | Berhasil mengambil 5 jurnal.\n"
     ]
    },
    {
     "name": "stdout",
     "output_type": "stream",
     "text": [
      "✔️ Selesai: Ekonomi Dan Bisnis - D3 Akuntansi | Berhasil mengambil 5 jurnal.\n"
     ]
    },
    {
     "name": "stdout",
     "output_type": "stream",
     "text": [
      "✔️ Selesai: Ekonomi Dan Bisnis - Magister Akuntansi | Berhasil mengambil 5 jurnal.\n"
     ]
    },
    {
     "name": "stdout",
     "output_type": "stream",
     "text": [
      "✔️ Selesai: Ekonomi Dan Bisnis - Magister Manajemen | Berhasil mengambil 5 jurnal.\n"
     ]
    },
    {
     "name": "stdout",
     "output_type": "stream",
     "text": [
      "✔️ Selesai: Ekonomi Dan Bisnis - D3 Enterpreneurship | Berhasil mengambil 5 jurnal.\n"
     ]
    },
    {
     "name": "stdout",
     "output_type": "stream",
     "text": [
      "✔️ Selesai: Ekonomi Dan Bisnis - Magister Ilmu Ekonomi | Berhasil mengambil 5 jurnal.\n"
     ]
    },
    {
     "name": "stdout",
     "output_type": "stream",
     "text": [
      "✔️ Selesai: Teknik - Teknik Industri | Berhasil mengambil 5 jurnal.\n"
     ]
    },
    {
     "name": "stdout",
     "output_type": "stream",
     "text": [
      "✔️ Selesai: Teknik - Teknik Informatika | Berhasil mengambil 5 jurnal.\n"
     ]
    },
    {
     "name": "stdout",
     "output_type": "stream",
     "text": [
      "✔️ Selesai: Teknik - Manajemen Informatika | Berhasil mengambil 5 jurnal.\n"
     ]
    },
    {
     "name": "stdout",
     "output_type": "stream",
     "text": [
      "✔️ Selesai: Teknik - Sistem Informasi | Ditemukan 0 jurnal.\n",
      "✔️ Selesai: Teknik - Teknik Mesin | Ditemukan 0 jurnal.\n"
     ]
    }
   ],
   "source": [
    "main()"
   ]
  }
 ],
 "metadata": {
  "kernelspec": {
   "display_name": "Python 3",
   "language": "python",
   "name": "python3"
  },
  "language_info": {
   "codemirror_mode": {
    "name": "ipython",
    "version": 3
   },
   "file_extension": ".py",
   "mimetype": "text/x-python",
   "name": "python",
   "nbconvert_exporter": "python",
   "pygments_lexer": "ipython3",
   "version": "3.10.6"
  }
 },
 "nbformat": 4,
 "nbformat_minor": 5
}