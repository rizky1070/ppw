{
 "cells": [
  {
   "cell_type": "code",
   "execution_count": 6,
   "id": "b574f3e2",
   "metadata": {},
   "outputs": [
    {
     "name": "stdout",
     "output_type": "stream",
     "text": [
      "                                          abstrak_id  \\\n",
      "0  ABSTRAK\\r\\nSatiyah, Pengaruh Faktor-faktor Pel...   \n",
      "1  Tujuan penelitian ini adalah untuk mengetahui ...   \n",
      "2  Aplikasi nyata pemanfaatan teknologi informasi...   \n",
      "3  Abstrak\\r\\nPenelitian ini menggunakan metode k...   \n",
      "4  Abstrak\\r\\n\\r\\nAththaariq, Pengaruh Kompetensi...   \n",
      "\n",
      "                                 hasil_preprocessing  \n",
      "0  [abstrak, satiyah, pengaruh, faktorfaktor, lat...  \n",
      "1  [tuju, teliti, persepsi, brand, association, l...  \n",
      "2  [aplikasi, nyata, manfaat, teknologi, informas...  \n",
      "3  [abstrak, teliti, metode, kuantitatif, tekan, ...  \n",
      "4  [abstrak, aththaariq, pengaruh, kompetensi, do...  \n"
     ]
    }
   ],
   "source": [
    "import pandas as pd\n",
    "import ast # Library untuk mengubah string menjadi list\n",
    "\n",
    "# Muat data Anda\n",
    "df = pd.read_csv('hasil_preprocessing_manajemen.csv')\n",
    "\n",
    "# Ubah kolom 'hasil_preprocessing' dari string kembali ke list\n",
    "df['hasil_preprocessing'] = df['hasil_preprocessing'].apply(ast.literal_eval)\n",
    "\n",
    "# Tampilkan untuk memastikan formatnya benar\n",
    "print(df.head())\n",
    "\n",
    "# Siapkan data teks untuk model\n",
    "kalimat = df['hasil_preprocessing'].tolist()"
   ]
  },
  {
   "cell_type": "code",
   "execution_count": 7,
   "id": "81bc2ba8",
   "metadata": {},
   "outputs": [
    {
     "name": "stdout",
     "output_type": "stream",
     "text": [
      "Model Word2Vec berhasil dilatih!\n"
     ]
    }
   ],
   "source": [
    "from gensim.models import Word2Vec\n",
    "\n",
    "# Latih model Word2Vec\n",
    "# vector_size=100 -> Ini adalah parameter kunci sesuai tugas Anda\n",
    "# window=5 -> Jarak kata tetangga yang dipertimbangkan\n",
    "# min_count=2 -> Abaikan kata yang muncul kurang dari 2 kali\n",
    "# workers=4 -> Jumlah thread CPU yang digunakan (sesuaikan dengan komputer Anda)\n",
    "model_w2v = Word2Vec(sentences=kalimat, vector_size=100, window=5, min_count=2, workers=4)\n",
    "\n",
    "print(\"Model Word2Vec berhasil dilatih!\")"
   ]
  },
  {
   "cell_type": "code",
   "execution_count": 13,
   "id": "6a3f0937",
   "metadata": {},
   "outputs": [
    {
     "name": "stdout",
     "output_type": "stream",
     "text": [
      "DataFrame dengan label topik berhasil disimpan ke 'hasil_topic_modeling.csv'\n",
      "                                          abstrak_id  \\\n",
      "0  ABSTRAK\\r\\nSatiyah, Pengaruh Faktor-faktor Pel...   \n",
      "1  Tujuan penelitian ini adalah untuk mengetahui ...   \n",
      "2  Aplikasi nyata pemanfaatan teknologi informasi...   \n",
      "3  Abstrak\\r\\nPenelitian ini menggunakan metode k...   \n",
      "4  Abstrak\\r\\n\\r\\nAththaariq, Pengaruh Kompetensi...   \n",
      "\n",
      "                                 hasil_preprocessing  topik  \n",
      "0  [abstrak, satiyah, pengaruh, faktorfaktor, lat...      2  \n",
      "1  [tuju, teliti, persepsi, brand, association, l...      3  \n",
      "2  [aplikasi, nyata, manfaat, teknologi, informas...      3  \n",
      "3  [abstrak, teliti, metode, kuantitatif, tekan, ...      2  \n",
      "4  [abstrak, aththaariq, pengaruh, kompetensi, do...      2  \n"
     ]
    }
   ],
   "source": [
    "import numpy as np\n",
    "from sklearn.cluster import KMeans\n",
    "\n",
    "# Fungsi untuk membuat vektor dokumen dengan merata-ratakan word vector\n",
    "def create_document_vector(doc, model):\n",
    "    # Dapatkan semua vektor kata yang ada di model\n",
    "    word_vectors = [model.wv[word] for word in doc if word in model.wv.key_to_index]\n",
    "    if len(word_vectors) == 0:\n",
    "        return np.zeros(model.vector_size)\n",
    "    return np.mean(word_vectors, axis=0)\n",
    "\n",
    "# Buat daftar vektor untuk semua dokumen\n",
    "X = [create_document_vector(doc, model_w2v) for doc in kalimat]\n",
    "\n",
    "# --- Proses Clustering ---\n",
    "# Ubah n_clusters menjadi jumlah topik yang Anda inginkan (misal: 3)\n",
    "jumlah_topik = 5\n",
    "kmeans = KMeans(n_clusters=jumlah_topik, random_state=42, n_init=10)\n",
    "kmeans.fit(X)\n",
    "\n",
    "# Tambahkan label cluster (topik) ke DataFrame utama Anda\n",
    "df['topik'] = kmeans.labels_\n",
    "\n",
    "# --- TAMBAHKAN KODE INI UNTUK MENYIMPAN ---\n",
    "df.to_csv('hasil_topic_modeling.csv', index=False)\n",
    "\n",
    "print(\"DataFrame dengan label topik berhasil disimpan ke 'hasil_topic_modeling.csv'\")\n",
    "print(df.head())"
   ]
  },
  {
   "cell_type": "code",
   "execution_count": null,
   "id": "e125b2e0",
   "metadata": {},
   "outputs": [
    {
     "name": "stdout",
     "output_type": "stream",
     "text": [
      "\\n--- Topik 0 ---\n",
      "1. ABSTRAK\n",
      "Tujuan penelitian ini adalah untuk mengetahui pengaruh variabel current ratio, return on eq...\n",
      "2. Pendekatan penelitian yang digunakan dalam penelitian ini adalah pendekatan kuantitatif. Populasi pe...\n",
      "3. Devi Kurniawati, Pengaruh Earning Per Share, Net Profit Margin, Debt to Asset Ratio dan Return On eq...\n",
      "4. Tujuan dari penelitian ini adalah untuk mengetahui pengaruh rasio profitabilitas terhadap harga saha...\n",
      "5. Abstrak\n",
      "\n",
      "Pendekatan penelitian yang digunakan dalam penelitian ini adalah pendekatan kuantitatif. ...\n",
      "\\n--- Topik 1 ---\n",
      "1. ABSTRAK\n",
      "Haryono Arifin, Pengaruh Perilaku Konsumen Terhadap Keputusan Pembelian Produk Honda Merek ...\n",
      "2. ABSTRAK\n",
      "\n",
      "Tujuan penelitian ini adalah untuk mengidentifikasi variabel-variabel yang mempengaruhi k...\n",
      "3. Tujuan penelitian ini adalah untuk mengetahui pengaruh variabel Retailing Mix yang terdiri dari loka...\n",
      "4. Tujuan penelitian ini adalah mengetahui pengaruh celebrity endorser Iwan Fals terhadap minat beli pr...\n",
      "5. Bauran eceran merupakan salah satu langkah pemasaran bagi keberhasilan perusahaan, baik yang bergera...\n",
      "\\n--- Topik 2 ---\n",
      "1. ABSTRAK\n",
      "Satiyah, Pengaruh Faktor-faktor Pelatihan dan Pengembangan Terhadap Produktivitas Kerja Din...\n",
      "2. Abstrak\n",
      "Penelitian ini menggunakan metode kuantitatif, yang menekankan pada pengujian hipotesis. Va...\n",
      "3. Abstrak\n",
      "\n",
      "Aththaariq, Pengaruh Kompetensi Dosen Terhadap Kinerja Dosen Di Universitas Trunojoyo Mad...\n",
      "4. ABSTRAK\n",
      "\tDharma Abidin Syah,Kesimpulan: (1) Terdapat pengaruh signifikan antara variabel tipe kepem...\n",
      "5. PLN merupakan Badan Usaha Milik Negara yang bergerak dalam bidang penyediaan listrik nasional. PLN m...\n",
      "\\n--- Topik 3 ---\n",
      "1. Tujuan penelitian ini adalah untuk mengetahui persepsi brand association menurut pelanggan pakaian K...\n",
      "2. Aplikasi nyata pemanfaatan teknologi informasi dan komunikasi adalah pada bidang layanan administras...\n",
      "3. ABSTRAK\n",
      "\tTujuan penelitian ini adalah mendeskripsikan inovasi, keunggulan bersaing, kinerja pemasar...\n",
      "4. ABSTRAK\n",
      "\n",
      "Penelitian ini mengungkapkan beberapa rumusan masalah, diantaranya adalah bagaimanakah pe...\n",
      "5. Tujuan penelitian ini adalah untuk mengidentifikasi variabel-variabel yang mempengaruhi minat ulang ...\n",
      "\\n--- Topik 4 ---\n",
      "1. Hasil dari penelitian ini dari perhitungan Credit Risk Ratio menunjukan bahwa NPL Pada PD. BPR Bank ...\n",
      "2. Diana Agustini Dewi, 2013. “Analisis Kinerja Keuangan Perusahaan yang terdaftar di BEI sebelum dan s...\n",
      "3. Tujuan penelitian ini adalah untuk mengetahui tingkat kebangkrutan perusahaan makanan dan minuman ya...\n",
      "4. Kenaikan harga yang terlalu tinggi, akan menyebabkan permintaan terhadap pembelian saham tersebut me...\n",
      "5. Suatu keputusan investasi selalu berhubungan dengan keuntungan dan risiko. Investor yang rasional me...\n"
     ]
    },
    {
     "ename": "",
     "evalue": "",
     "output_type": "error",
     "traceback": [
      "\u001b[1;31mThe Kernel crashed while executing code in the current cell or a previous cell. \n",
      "\u001b[1;31mPlease review the code in the cell(s) to identify a possible cause of the failure. \n",
      "\u001b[1;31mClick <a href='https://aka.ms/vscodeJupyterKernelCrash'>here</a> for more info. \n",
      "\u001b[1;31mView Jupyter <a href='command:jupyter.viewOutput'>log</a> for further details."
     ]
    }
   ],
   "source": [
    "# Tampilkan 5 dokumen pertama untuk setiap topik\n",
    "for i in range(jumlah_topik):\n",
    "    print(f\"\\\\n--- Topik {i} ---\")\n",
    "    # Ambil 5 judul dari abstrak yang masuk ke topik ini\n",
    "    contoh_dokumen = df[df['topik'] == i]['abstrak_id'].head(5).tolist()\n",
    "    for idx, abstrak in enumerate(contoh_dokumen):\n",
    "        # Tampilkan 100 karakter pertama dari setiap abstrak\n",
    "        print(f\"{idx+1}. {abstrak[:100]}...\")"
   ]
  }
 ],
 "metadata": {
  "kernelspec": {
   "display_name": "Python 3",
   "language": "python",
   "name": "python3"
  },
  "language_info": {
   "codemirror_mode": {
    "name": "ipython",
    "version": 3
   },
   "file_extension": ".py",
   "mimetype": "text/x-python",
   "name": "python",
   "nbconvert_exporter": "python",
   "pygments_lexer": "ipython3",
   "version": "3.12.0"
  }
 },
 "nbformat": 4,
 "nbformat_minor": 5
}
